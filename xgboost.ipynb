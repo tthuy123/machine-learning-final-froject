{
 "cells": [
  {
   "cell_type": "code",
   "execution_count": 1,
   "id": "d9d4a194",
   "metadata": {
    "_cell_guid": "b1076dfc-b9ad-4769-8c92-a6c4dae69d19",
    "_uuid": "8f2839f25d086af736a60e9eeb907d3b93b6e0e5",
    "execution": {
     "iopub.execute_input": "2024-12-08T20:24:11.374277Z",
     "iopub.status.busy": "2024-12-08T20:24:11.373830Z",
     "iopub.status.idle": "2024-12-08T20:24:31.099589Z",
     "shell.execute_reply": "2024-12-08T20:24:31.098480Z"
    },
    "papermill": {
     "duration": 19.741746,
     "end_time": "2024-12-08T20:24:31.102075",
     "exception": false,
     "start_time": "2024-12-08T20:24:11.360329",
     "status": "completed"
    },
    "tags": []
   },
   "outputs": [],
   "source": [
    "import numpy as np, pandas as pd, os\n",
    "from sklearn.model_selection import cross_val_score, StratifiedKFold\n",
    "import xgboost as xgb\n",
    "import plotly.express as px, seaborn as sns, matplotlib.pyplot as plt\n",
    "sns.set_style('darkgrid')\n",
    "from sklearn.metrics import make_scorer, cohen_kappa_score\n",
    "import eli5\n",
    "from eli5.sklearn import PermutationImportance\n",
    "import warnings\n",
    "warnings.simplefilter('ignore')"
   ]
  },
  {
   "cell_type": "code",
   "execution_count": 4,
   "id": "0b0e5014",
   "metadata": {
    "execution": {
     "iopub.execute_input": "2024-12-08T20:24:31.375980Z",
     "iopub.status.busy": "2024-12-08T20:24:31.375562Z",
     "iopub.status.idle": "2024-12-08T20:24:31.394887Z",
     "shell.execute_reply": "2024-12-08T20:24:31.393732Z"
    },
    "papermill": {
     "duration": 0.033035,
     "end_time": "2024-12-08T20:24:31.397377",
     "exception": false,
     "start_time": "2024-12-08T20:24:31.364342",
     "status": "completed"
    },
    "tags": []
   },
   "outputs": [],
   "source": [
    "test_cat_columns = test.select_dtypes(exclude = 'number').columns\n",
    "\n",
    "for season in test_cat_columns:\n",
    "    test[season] = test[season].fillna(0)\n",
    "    test[season] = test[season].replace({'Spring':1, 'Summer':2, 'Fall':3, 'Winter':4})"
   ]
  },
  {
   "cell_type": "code",
   "execution_count": 5,
   "id": "fa9ead98",
   "metadata": {
    "execution": {
     "iopub.execute_input": "2024-12-08T20:24:31.458071Z",
     "iopub.status.busy": "2024-12-08T20:24:31.457584Z",
     "iopub.status.idle": "2024-12-08T20:24:31.464567Z",
     "shell.execute_reply": "2024-12-08T20:24:31.463267Z"
    },
    "papermill": {
     "duration": 0.020997,
     "end_time": "2024-12-08T20:24:31.467362",
     "exception": false,
     "start_time": "2024-12-08T20:24:31.446365",
     "status": "completed"
    },
    "tags": []
   },
   "outputs": [
    {
     "name": "stdout",
     "output_type": "stream",
     "text": [
      "Number of PCIAT features =  22\n"
     ]
    }
   ],
   "source": [
    "PCIAT_cols = [val for val in train.columns[train.columns.str.contains('PCIAT')]]\n",
    "print('Number of PCIAT features = ' , len(PCIAT_cols))"
   ]
  },
  {
   "cell_type": "code",
   "execution_count": 6,
   "id": "bcd2f07f",
   "metadata": {
    "execution": {
     "iopub.execute_input": "2024-12-08T20:24:31.490878Z",
     "iopub.status.busy": "2024-12-08T20:24:31.490465Z",
     "iopub.status.idle": "2024-12-08T20:24:31.514458Z",
     "shell.execute_reply": "2024-12-08T20:24:31.513225Z"
    },
    "papermill": {
     "duration": 0.038746,
     "end_time": "2024-12-08T20:24:31.516753",
     "exception": false,
     "start_time": "2024-12-08T20:24:31.478007",
     "status": "completed"
    },
    "tags": []
   },
   "outputs": [
    {
     "data": {
      "text/html": [
       "<div>\n",
       "<style scoped>\n",
       "    .dataframe tbody tr th:only-of-type {\n",
       "        vertical-align: middle;\n",
       "    }\n",
       "\n",
       "    .dataframe tbody tr th {\n",
       "        vertical-align: top;\n",
       "    }\n",
       "\n",
       "    .dataframe thead th {\n",
       "        text-align: right;\n",
       "    }\n",
       "</style>\n",
       "<table border=\"1\" class=\"dataframe\">\n",
       "  <thead>\n",
       "    <tr style=\"text-align: right;\">\n",
       "      <th></th>\n",
       "      <th>Field</th>\n",
       "      <th>Description</th>\n",
       "    </tr>\n",
       "  </thead>\n",
       "  <tbody>\n",
       "    <tr>\n",
       "      <th>55</th>\n",
       "      <td>PCIAT-PCIAT_01</td>\n",
       "      <td>How often does your child disobey time limits you set for online use?</td>\n",
       "    </tr>\n",
       "    <tr>\n",
       "      <th>56</th>\n",
       "      <td>PCIAT-PCIAT_02</td>\n",
       "      <td>How often does your child neglect household chores to spend more time online?</td>\n",
       "    </tr>\n",
       "    <tr>\n",
       "      <th>57</th>\n",
       "      <td>PCIAT-PCIAT_03</td>\n",
       "      <td>How often does your child prefer to spend time online rather than with the rest of your family?</td>\n",
       "    </tr>\n",
       "    <tr>\n",
       "      <th>58</th>\n",
       "      <td>PCIAT-PCIAT_04</td>\n",
       "      <td>How often does your child form new relationships with fellow online users?</td>\n",
       "    </tr>\n",
       "    <tr>\n",
       "      <th>59</th>\n",
       "      <td>PCIAT-PCIAT_05</td>\n",
       "      <td>How often do you complain about the amount of time your child spends online?</td>\n",
       "    </tr>\n",
       "    <tr>\n",
       "      <th>60</th>\n",
       "      <td>PCIAT-PCIAT_06</td>\n",
       "      <td>How often do your child's grades suffer because of the amount of time he or she spends online?</td>\n",
       "    </tr>\n",
       "    <tr>\n",
       "      <th>61</th>\n",
       "      <td>PCIAT-PCIAT_07</td>\n",
       "      <td>How often does your child check his or her e-mail before doing something else?</td>\n",
       "    </tr>\n",
       "    <tr>\n",
       "      <th>62</th>\n",
       "      <td>PCIAT-PCIAT_08</td>\n",
       "      <td>How often does your child seem withdrawn from others since discovering the Internet?</td>\n",
       "    </tr>\n",
       "    <tr>\n",
       "      <th>63</th>\n",
       "      <td>PCIAT-PCIAT_09</td>\n",
       "      <td>How often does your child become defensive or secretive when asked what he or she does online?</td>\n",
       "    </tr>\n",
       "    <tr>\n",
       "      <th>64</th>\n",
       "      <td>PCIAT-PCIAT_10</td>\n",
       "      <td>How often have you caught your child sneaking online against your wishes?</td>\n",
       "    </tr>\n",
       "    <tr>\n",
       "      <th>65</th>\n",
       "      <td>PCIAT-PCIAT_11</td>\n",
       "      <td>How often does your child spend time along in his or her room playing on the computer?</td>\n",
       "    </tr>\n",
       "    <tr>\n",
       "      <th>66</th>\n",
       "      <td>PCIAT-PCIAT_12</td>\n",
       "      <td>How often does your child receive strange phone calls from new \"online\" friends?</td>\n",
       "    </tr>\n",
       "    <tr>\n",
       "      <th>67</th>\n",
       "      <td>PCIAT-PCIAT_13</td>\n",
       "      <td>How often does your child snap, yell, or act annoyed if bothered while online?</td>\n",
       "    </tr>\n",
       "    <tr>\n",
       "      <th>68</th>\n",
       "      <td>PCIAT-PCIAT_14</td>\n",
       "      <td>How often does your child seem more tired and fatigued than he or she did before the Internet came along?</td>\n",
       "    </tr>\n",
       "    <tr>\n",
       "      <th>69</th>\n",
       "      <td>PCIAT-PCIAT_15</td>\n",
       "      <td>How often does your child seem preoccupied with being back online when off-line?</td>\n",
       "    </tr>\n",
       "    <tr>\n",
       "      <th>70</th>\n",
       "      <td>PCIAT-PCIAT_16</td>\n",
       "      <td>How often does your child throw tantrums with your interference about how long he or she spends online?</td>\n",
       "    </tr>\n",
       "    <tr>\n",
       "      <th>71</th>\n",
       "      <td>PCIAT-PCIAT_17</td>\n",
       "      <td>How often does your child choose to spend time online rather than doing once enjoyed hobbies and/or outside interests?</td>\n",
       "    </tr>\n",
       "    <tr>\n",
       "      <th>72</th>\n",
       "      <td>PCIAT-PCIAT_18</td>\n",
       "      <td>How often does your child become angry or belligerent when your place time limits on how much time he or shes is allowed to spend online?</td>\n",
       "    </tr>\n",
       "    <tr>\n",
       "      <th>73</th>\n",
       "      <td>PCIAT-PCIAT_19</td>\n",
       "      <td>How often does your child choose to spend more time online than going out with friends?</td>\n",
       "    </tr>\n",
       "    <tr>\n",
       "      <th>74</th>\n",
       "      <td>PCIAT-PCIAT_20</td>\n",
       "      <td>How often does your child feel depressed, moody, or nervous when off-line which seems to go away once back online?</td>\n",
       "    </tr>\n",
       "    <tr>\n",
       "      <th>75</th>\n",
       "      <td>PCIAT-PCIAT_Total</td>\n",
       "      <td>Total Score</td>\n",
       "    </tr>\n",
       "  </tbody>\n",
       "</table>\n",
       "</div>"
      ],
      "text/plain": [
       "                Field  \\\n",
       "55     PCIAT-PCIAT_01   \n",
       "56     PCIAT-PCIAT_02   \n",
       "57     PCIAT-PCIAT_03   \n",
       "58     PCIAT-PCIAT_04   \n",
       "59     PCIAT-PCIAT_05   \n",
       "60     PCIAT-PCIAT_06   \n",
       "61     PCIAT-PCIAT_07   \n",
       "62     PCIAT-PCIAT_08   \n",
       "63     PCIAT-PCIAT_09   \n",
       "64     PCIAT-PCIAT_10   \n",
       "65     PCIAT-PCIAT_11   \n",
       "66     PCIAT-PCIAT_12   \n",
       "67     PCIAT-PCIAT_13   \n",
       "68     PCIAT-PCIAT_14   \n",
       "69     PCIAT-PCIAT_15   \n",
       "70     PCIAT-PCIAT_16   \n",
       "71     PCIAT-PCIAT_17   \n",
       "72     PCIAT-PCIAT_18   \n",
       "73     PCIAT-PCIAT_19   \n",
       "74     PCIAT-PCIAT_20   \n",
       "75  PCIAT-PCIAT_Total   \n",
       "\n",
       "                                                                                                                                  Description  \n",
       "55                                                                      How often does your child disobey time limits you set for online use?  \n",
       "56                                                              How often does your child neglect household chores to spend more time online?  \n",
       "57                                            How often does your child prefer to spend time online rather than with the rest of your family?  \n",
       "58                                                                 How often does your child form new relationships with fellow online users?  \n",
       "59                                                               How often do you complain about the amount of time your child spends online?  \n",
       "60                                             How often do your child's grades suffer because of the amount of time he or she spends online?  \n",
       "61                                                             How often does your child check his or her e-mail before doing something else?  \n",
       "62                                                       How often does your child seem withdrawn from others since discovering the Internet?  \n",
       "63                                             How often does your child become defensive or secretive when asked what he or she does online?  \n",
       "64                                                                  How often have you caught your child sneaking online against your wishes?  \n",
       "65                                                     How often does your child spend time along in his or her room playing on the computer?  \n",
       "66                                                           How often does your child receive strange phone calls from new \"online\" friends?  \n",
       "67                                                             How often does your child snap, yell, or act annoyed if bothered while online?  \n",
       "68                                  How often does your child seem more tired and fatigued than he or she did before the Internet came along?  \n",
       "69                                                           How often does your child seem preoccupied with being back online when off-line?  \n",
       "70                                    How often does your child throw tantrums with your interference about how long he or she spends online?  \n",
       "71                     How often does your child choose to spend time online rather than doing once enjoyed hobbies and/or outside interests?  \n",
       "72  How often does your child become angry or belligerent when your place time limits on how much time he or shes is allowed to spend online?  \n",
       "73                                                    How often does your child choose to spend more time online than going out with friends?  \n",
       "74                         How often does your child feel depressed, moody, or nervous when off-line which seems to go away once back online?  \n",
       "75                                                                                                                                Total Score  "
      ]
     },
     "execution_count": 6,
     "metadata": {},
     "output_type": "execute_result"
    }
   ],
   "source": [
    "pd.set_option('display.max_colwidth', None)\n",
    "questions = data_dictionary[data_dictionary.Field.str.contains('PCIAT-PCIAT')]\n",
    "questions[['Field','Description']]"
   ]
  },
  {
   "cell_type": "code",
   "execution_count": 7,
   "id": "601be361",
   "metadata": {
    "execution": {
     "iopub.execute_input": "2024-12-08T20:24:31.539326Z",
     "iopub.status.busy": "2024-12-08T20:24:31.538876Z",
     "iopub.status.idle": "2024-12-08T20:24:31.612406Z",
     "shell.execute_reply": "2024-12-08T20:24:31.611303Z"
    },
    "papermill": {
     "duration": 0.087468,
     "end_time": "2024-12-08T20:24:31.614758",
     "exception": false,
     "start_time": "2024-12-08T20:24:31.527290",
     "status": "completed"
    },
    "tags": []
   },
   "outputs": [
    {
     "data": {
      "text/html": [
       "<style type=\"text/css\">\n",
       "#T_1155d_row0_col0 {\n",
       "  background-color: #800026;\n",
       "  color: #f1f1f1;\n",
       "}\n",
       "#T_1155d_row1_col0 {\n",
       "  background-color: #ca0923;\n",
       "  color: #f1f1f1;\n",
       "}\n",
       "#T_1155d_row2_col0, #T_1155d_row3_col0, #T_1155d_row4_col0 {\n",
       "  background-color: #cd0b22;\n",
       "  color: #f1f1f1;\n",
       "}\n",
       "#T_1155d_row5_col0 {\n",
       "  background-color: #d41020;\n",
       "  color: #f1f1f1;\n",
       "}\n",
       "#T_1155d_row6_col0 {\n",
       "  background-color: #d7121f;\n",
       "  color: #f1f1f1;\n",
       "}\n",
       "#T_1155d_row7_col0, #T_1155d_row8_col0, #T_1155d_row9_col0 {\n",
       "  background-color: #dd161d;\n",
       "  color: #f1f1f1;\n",
       "}\n",
       "#T_1155d_row10_col0 {\n",
       "  background-color: #e1191d;\n",
       "  color: #f1f1f1;\n",
       "}\n",
       "#T_1155d_row11_col0 {\n",
       "  background-color: #e2191c;\n",
       "  color: #f1f1f1;\n",
       "}\n",
       "#T_1155d_row12_col0 {\n",
       "  background-color: #e6211e;\n",
       "  color: #f1f1f1;\n",
       "}\n",
       "#T_1155d_row13_col0 {\n",
       "  background-color: #e8241f;\n",
       "  color: #f1f1f1;\n",
       "}\n",
       "#T_1155d_row14_col0, #T_1155d_row15_col0 {\n",
       "  background-color: #e92720;\n",
       "  color: #f1f1f1;\n",
       "}\n",
       "#T_1155d_row16_col0 {\n",
       "  background-color: #ed3022;\n",
       "  color: #f1f1f1;\n",
       "}\n",
       "#T_1155d_row17_col0 {\n",
       "  background-color: #f13624;\n",
       "  color: #f1f1f1;\n",
       "}\n",
       "#T_1155d_row18_col0 {\n",
       "  background-color: #fc512b;\n",
       "  color: #f1f1f1;\n",
       "}\n",
       "#T_1155d_row19_col0 {\n",
       "  background-color: #fd923e;\n",
       "  color: #000000;\n",
       "}\n",
       "#T_1155d_row20_col0 {\n",
       "  background-color: #fea948;\n",
       "  color: #000000;\n",
       "}\n",
       "#T_1155d_row21_col0 {\n",
       "  background-color: #ffffcc;\n",
       "  color: #000000;\n",
       "}\n",
       "</style>\n",
       "<table id=\"T_1155d\">\n",
       "  <thead>\n",
       "    <tr>\n",
       "      <th class=\"blank level0\" >&nbsp;</th>\n",
       "      <th id=\"T_1155d_level0_col0\" class=\"col_heading level0 col0\" >PCIAT-PCIAT_Total</th>\n",
       "    </tr>\n",
       "  </thead>\n",
       "  <tbody>\n",
       "    <tr>\n",
       "      <th id=\"T_1155d_level0_row0\" class=\"row_heading level0 row0\" >PCIAT-PCIAT_Total</th>\n",
       "      <td id=\"T_1155d_row0_col0\" class=\"data row0 col0\" >1.000000</td>\n",
       "    </tr>\n",
       "    <tr>\n",
       "      <th id=\"T_1155d_level0_row1\" class=\"row_heading level0 row1\" >PCIAT-PCIAT_05</th>\n",
       "      <td id=\"T_1155d_row1_col0\" class=\"data row1 col0\" >0.830993</td>\n",
       "    </tr>\n",
       "    <tr>\n",
       "      <th id=\"T_1155d_level0_row2\" class=\"row_heading level0 row2\" >PCIAT-PCIAT_15</th>\n",
       "      <td id=\"T_1155d_row2_col0\" class=\"data row2 col0\" >0.823996</td>\n",
       "    </tr>\n",
       "    <tr>\n",
       "      <th id=\"T_1155d_level0_row3\" class=\"row_heading level0 row3\" >PCIAT-PCIAT_17</th>\n",
       "      <td id=\"T_1155d_row3_col0\" class=\"data row3 col0\" >0.823708</td>\n",
       "    </tr>\n",
       "    <tr>\n",
       "      <th id=\"T_1155d_level0_row4\" class=\"row_heading level0 row4\" >PCIAT-PCIAT_03</th>\n",
       "      <td id=\"T_1155d_row4_col0\" class=\"data row4 col0\" >0.823336</td>\n",
       "    </tr>\n",
       "    <tr>\n",
       "      <th id=\"T_1155d_level0_row5\" class=\"row_heading level0 row5\" >PCIAT-PCIAT_18</th>\n",
       "      <td id=\"T_1155d_row5_col0\" class=\"data row5 col0\" >0.802030</td>\n",
       "    </tr>\n",
       "    <tr>\n",
       "      <th id=\"T_1155d_level0_row6\" class=\"row_heading level0 row6\" >PCIAT-PCIAT_02</th>\n",
       "      <td id=\"T_1155d_row6_col0\" class=\"data row6 col0\" >0.788802</td>\n",
       "    </tr>\n",
       "    <tr>\n",
       "      <th id=\"T_1155d_level0_row7\" class=\"row_heading level0 row7\" >PCIAT-PCIAT_13</th>\n",
       "      <td id=\"T_1155d_row7_col0\" class=\"data row7 col0\" >0.771990</td>\n",
       "    </tr>\n",
       "    <tr>\n",
       "      <th id=\"T_1155d_level0_row8\" class=\"row_heading level0 row8\" >PCIAT-PCIAT_08</th>\n",
       "      <td id=\"T_1155d_row8_col0\" class=\"data row8 col0\" >0.770499</td>\n",
       "    </tr>\n",
       "    <tr>\n",
       "      <th id=\"T_1155d_level0_row9\" class=\"row_heading level0 row9\" >PCIAT-PCIAT_16</th>\n",
       "      <td id=\"T_1155d_row9_col0\" class=\"data row9 col0\" >0.769422</td>\n",
       "    </tr>\n",
       "    <tr>\n",
       "      <th id=\"T_1155d_level0_row10\" class=\"row_heading level0 row10\" >PCIAT-PCIAT_10</th>\n",
       "      <td id=\"T_1155d_row10_col0\" class=\"data row10 col0\" >0.761463</td>\n",
       "    </tr>\n",
       "    <tr>\n",
       "      <th id=\"T_1155d_level0_row11\" class=\"row_heading level0 row11\" >PCIAT-PCIAT_20</th>\n",
       "      <td id=\"T_1155d_row11_col0\" class=\"data row11 col0\" >0.754277</td>\n",
       "    </tr>\n",
       "    <tr>\n",
       "      <th id=\"T_1155d_level0_row12\" class=\"row_heading level0 row12\" >PCIAT-PCIAT_19</th>\n",
       "      <td id=\"T_1155d_row12_col0\" class=\"data row12 col0\" >0.737243</td>\n",
       "    </tr>\n",
       "    <tr>\n",
       "      <th id=\"T_1155d_level0_row13\" class=\"row_heading level0 row13\" >PCIAT-PCIAT_01</th>\n",
       "      <td id=\"T_1155d_row13_col0\" class=\"data row13 col0\" >0.727959</td>\n",
       "    </tr>\n",
       "    <tr>\n",
       "      <th id=\"T_1155d_level0_row14\" class=\"row_heading level0 row14\" >PCIAT-PCIAT_14</th>\n",
       "      <td id=\"T_1155d_row14_col0\" class=\"data row14 col0\" >0.721995</td>\n",
       "    </tr>\n",
       "    <tr>\n",
       "      <th id=\"T_1155d_level0_row15\" class=\"row_heading level0 row15\" >PCIAT-PCIAT_09</th>\n",
       "      <td id=\"T_1155d_row15_col0\" class=\"data row15 col0\" >0.720953</td>\n",
       "    </tr>\n",
       "    <tr>\n",
       "      <th id=\"T_1155d_level0_row16\" class=\"row_heading level0 row16\" >PCIAT-PCIAT_06</th>\n",
       "      <td id=\"T_1155d_row16_col0\" class=\"data row16 col0\" >0.703261</td>\n",
       "    </tr>\n",
       "    <tr>\n",
       "      <th id=\"T_1155d_level0_row17\" class=\"row_heading level0 row17\" >PCIAT-PCIAT_11</th>\n",
       "      <td id=\"T_1155d_row17_col0\" class=\"data row17 col0\" >0.684780</td>\n",
       "    </tr>\n",
       "    <tr>\n",
       "      <th id=\"T_1155d_level0_row18\" class=\"row_heading level0 row18\" >PCIAT-PCIAT_04</th>\n",
       "      <td id=\"T_1155d_row18_col0\" class=\"data row18 col0\" >0.625394</td>\n",
       "    </tr>\n",
       "    <tr>\n",
       "      <th id=\"T_1155d_level0_row19\" class=\"row_heading level0 row19\" >PCIAT-PCIAT_07</th>\n",
       "      <td id=\"T_1155d_row19_col0\" class=\"data row19 col0\" >0.491768</td>\n",
       "    </tr>\n",
       "    <tr>\n",
       "      <th id=\"T_1155d_level0_row20\" class=\"row_heading level0 row20\" >PCIAT-PCIAT_12</th>\n",
       "      <td id=\"T_1155d_row20_col0\" class=\"data row20 col0\" >0.412194</td>\n",
       "    </tr>\n",
       "    <tr>\n",
       "      <th id=\"T_1155d_level0_row21\" class=\"row_heading level0 row21\" >PCIAT-Season</th>\n",
       "      <td id=\"T_1155d_row21_col0\" class=\"data row21 col0\" >0.015487</td>\n",
       "    </tr>\n",
       "  </tbody>\n",
       "</table>\n"
      ],
      "text/plain": [
       "<pandas.io.formats.style.Styler at 0x7fd3e567c5e0>"
      ]
     },
     "execution_count": 7,
     "metadata": {},
     "output_type": "execute_result"
    }
   ],
   "source": [
    "corr = train[PCIAT_cols].corr()['PCIAT-PCIAT_Total'].sort_values(ascending = False)\n",
    "corr = pd.DataFrame(corr)\n",
    "corr.style.background_gradient(cmap='YlOrRd')"
   ]
  },
  {
   "cell_type": "code",
   "execution_count": 8,
   "id": "0945205e",
   "metadata": {
    "execution": {
     "iopub.execute_input": "2024-12-08T20:24:31.637560Z",
     "iopub.status.busy": "2024-12-08T20:24:31.637154Z",
     "iopub.status.idle": "2024-12-08T20:24:31.946303Z",
     "shell.execute_reply": "2024-12-08T20:24:31.945064Z"
    },
    "papermill": {
     "duration": 0.323453,
     "end_time": "2024-12-08T20:24:31.948889",
     "exception": false,
     "start_time": "2024-12-08T20:24:31.625436",
     "status": "completed"
    },
    "tags": []
   },
   "outputs": [
    {
     "data": {
      "text/plain": [
       "Text(0.5, 1.0, 'Boxplot of PCIAT Total Scores')"
      ]
     },
     "execution_count": 8,
     "metadata": {},
     "output_type": "execute_result"
    },
    {
     "data": {
      "image/png": "[encoded data removed]",
      "text/plain": [
       "<Figure size 640x480 with 1 Axes>"
      ]
     },
     "metadata": {},
     "output_type": "display_data"
    }
   ],
   "source": [
    "sns.boxplot(train, x = 'PCIAT-PCIAT_Total').set_title('Boxplot of PCIAT Total Scores')"
   ]
  },
  {
   "cell_type": "code",
   "execution_count": 9,
   "id": "b08bf808",
   "metadata": {
    "execution": {
     "iopub.execute_input": "2024-12-08T20:24:31.973881Z",
     "iopub.status.busy": "2024-12-08T20:24:31.973490Z",
     "iopub.status.idle": "2024-12-08T20:24:31.993057Z",
     "shell.execute_reply": "2024-12-08T20:24:31.991949Z"
    },
    "papermill": {
     "duration": 0.034475,
     "end_time": "2024-12-08T20:24:31.995391",
     "exception": false,
     "start_time": "2024-12-08T20:24:31.960916",
     "status": "completed"
    },
    "tags": []
   },
   "outputs": [
    {
     "name": "stdout",
     "output_type": "stream",
     "text": [
      "sii\n",
      "0.0    1594\n",
      "Name: count, dtype: int64\n",
      "sii\n",
      "1.0    730\n",
      "Name: count, dtype: int64\n",
      "sii\n",
      "2.0    378\n",
      "Name: count, dtype: int64\n",
      "sii\n",
      "3.0    34\n",
      "Name: count, dtype: int64\n"
     ]
    }
   ],
   "source": [
    "print(train[train['PCIAT-PCIAT_Total']<=30].sii.value_counts())\n",
    "print(train[(train['PCIAT-PCIAT_Total']>30) \n",
    "    & (train['PCIAT-PCIAT_Total']<50)].sii.value_counts())\n",
    "print(train[(train['PCIAT-PCIAT_Total']>=50) \n",
    "    & (train['PCIAT-PCIAT_Total']<80)].sii.value_counts())\n",
    "print(train[train['PCIAT-PCIAT_Total']>=80].sii.value_counts())"
   ]
  },
  {
   "cell_type": "code",
   "execution_count": 10,
   "id": "d1f3d3d5",
   "metadata": {
    "execution": {
     "iopub.execute_input": "2024-12-08T20:24:32.019002Z",
     "iopub.status.busy": "2024-12-08T20:24:32.018630Z",
     "iopub.status.idle": "2024-12-08T20:24:32.028067Z",
     "shell.execute_reply": "2024-12-08T20:24:32.026987Z"
    },
    "papermill": {
     "duration": 0.023981,
     "end_time": "2024-12-08T20:24:32.030321",
     "exception": false,
     "start_time": "2024-12-08T20:24:32.006340",
     "status": "completed"
    },
    "tags": []
   },
   "outputs": [
    {
     "data": {
      "text/plain": [
       "sii\n",
       "0.0    1594\n",
       "1.0     730\n",
       "2.0     378\n",
       "3.0      34\n",
       "Name: count, dtype: int64"
      ]
     },
     "execution_count": 10,
     "metadata": {},
     "output_type": "execute_result"
    }
   ],
   "source": [
    "train.sii.value_counts()"
   ]
  },
  {
   "cell_type": "code",
   "execution_count": 11,
   "id": "3b740585",
   "metadata": {
    "execution": {
     "iopub.execute_input": "2024-12-08T20:24:32.054579Z",
     "iopub.status.busy": "2024-12-08T20:24:32.054196Z",
     "iopub.status.idle": "2024-12-08T20:24:32.061586Z",
     "shell.execute_reply": "2024-12-08T20:24:32.060347Z"
    },
    "papermill": {
     "duration": 0.022368,
     "end_time": "2024-12-08T20:24:32.064293",
     "exception": false,
     "start_time": "2024-12-08T20:24:32.041925",
     "status": "completed"
    },
    "tags": []
   },
   "outputs": [],
   "source": [
    "PCIAT_cols.remove('PCIAT-PCIAT_Total')\n",
    "train = train.drop(columns = PCIAT_cols)"
   ]
  },
  {
   "cell_type": "markdown",
   "id": "cb11f3db",
   "metadata": {
    "papermill": {
     "duration": 0.011001,
     "end_time": "2024-12-08T20:24:32.109495",
     "exception": false,
     "start_time": "2024-12-08T20:24:32.098494",
     "status": "completed"
    },
    "tags": []
   },
   "source": [
    " <div style=\"border-radius:12px;  border:2px solid blue; padding: 15px; background-color: #f6f5f5; font-size:120%; text-align:left\">\n",
    "\n",
    "* When first alerted to this competition by email there was a reference to excessive internet usage amongst children and young people as being the key problem to be assessed.\n",
    "* One of the puzzling things about the data is that, even for the 34 'severe' cases of PIU where sii =3, we can see that 5 participants assessed as severe are hardly using the internet at all.\n",
    "* How can they have scored so highly on the PCIAT questionnaire? There is a helpful discussion [here](https://www.kaggle.com/competitions/child-mind-institute-problematic-internet-use/discussion/535525#3003303)."
   ]
  },
  {
   "cell_type": "code",
   "execution_count": 12,
   "id": "a29a64db",
   "metadata": {
    "execution": {
     "iopub.execute_input": "2024-12-08T20:24:32.133509Z",
     "iopub.status.busy": "2024-12-08T20:24:32.133056Z",
     "iopub.status.idle": "2024-12-08T20:24:32.437849Z",
     "shell.execute_reply": "2024-12-08T20:24:32.436539Z"
    },
    "papermill": {
     "duration": 0.319636,
     "end_time": "2024-12-08T20:24:32.440270",
     "exception": false,
     "start_time": "2024-12-08T20:24:32.120634",
     "status": "completed"
    },
    "tags": []
   },
   "outputs": [
    {
     "data": {
      "text/plain": [
       "Text(0.5, 1.0, 'Count of sii')"
      ]
     },
     "execution_count": 12,
     "metadata": {},
     "output_type": "execute_result"
    },
    {
     "data": {
      "image/png": "[encoded data removed]",
      "text/plain": [
       "<Figure size 640x480 with 1 Axes>"
      ]
     },
     "metadata": {},
     "output_type": "display_data"
    }
   ],
   "source": [
    "sns.countplot(train, x = 'sii').set_title('Count of sii')"
   ]
  },
  {
   "cell_type": "code",
   "execution_count": 13,
   "id": "8ab6485b",
   "metadata": {
    "execution": {
     "iopub.execute_input": "2024-12-08T20:24:32.466308Z",
     "iopub.status.busy": "2024-12-08T20:24:32.465855Z",
     "iopub.status.idle": "2024-12-08T20:24:33.469370Z",
     "shell.execute_reply": "2024-12-08T20:24:33.468074Z"
    },
    "papermill": {
     "duration": 1.019024,
     "end_time": "2024-12-08T20:24:33.471570",
     "exception": false,
     "start_time": "2024-12-08T20:24:32.452546",
     "status": "completed"
    },
    "tags": []
   },
   "outputs": [
    {
     "data": {
      "image/png": "[encoded data removed]",
      "text/plain": [
       "<Figure size 640x480 with 1 Axes>"
      ]
     },
     "metadata": {},
     "output_type": "display_data"
    },
    {
     "data": {
      "image/png": "[encoded data removed]",
      "text/plain": [
       "<Figure size 640x480 with 1 Axes>"
      ]
     },
     "metadata": {},
     "output_type": "display_data"
    },
    {
     "data": {
      "image/png": "[encoded data removed]",
      "text/plain": [
       "<Figure size 640x480 with 1 Axes>"
      ]
     },
     "metadata": {},
     "output_type": "display_data"
    },
    {
     "data": {
      "image/png": "[encoded data removed]",
      "text/plain": [
       "<Figure size 640x480 with 1 Axes>"
      ]
     },
     "metadata": {},
     "output_type": "display_data"
    }
   ],
   "source": [
    "vals = ['PIU = 0', 'PIU = 1','PIU = 2', 'PIU = 3']\n",
    "\n",
    "for i in range(4):\n",
    "    plt.figure()\n",
    "    plot = sns.countplot(x = train[train.sii==i]['PreInt_EduHx-computerinternet_hoursday'])\n",
    "    plot.set_title(vals[i])"
   ]
  },
  {
   "cell_type": "code",
   "execution_count": 14,
   "id": "623727cd",
   "metadata": {
    "execution": {
     "iopub.execute_input": "2024-12-08T20:24:33.502615Z",
     "iopub.status.busy": "2024-12-08T20:24:33.502017Z",
     "iopub.status.idle": "2024-12-08T20:24:33.513447Z",
     "shell.execute_reply": "2024-12-08T20:24:33.512147Z"
    },
    "papermill": {
     "duration": 0.028604,
     "end_time": "2024-12-08T20:24:33.516132",
     "exception": false,
     "start_time": "2024-12-08T20:24:33.487528",
     "status": "completed"
    },
    "tags": []
   },
   "outputs": [],
   "source": [
    "train = train.dropna(subset='sii')"
   ]
  },
  {
   "cell_type": "markdown",
   "id": "c04135f0",
   "metadata": {
    "execution": {
     "iopub.execute_input": "2024-09-28T11:36:45.958067Z",
     "iopub.status.busy": "2024-09-28T11:36:45.957167Z",
     "iopub.status.idle": "2024-09-28T11:36:45.963155Z",
     "shell.execute_reply": "2024-09-28T11:36:45.961779Z",
     "shell.execute_reply.started": "2024-09-28T11:36:45.958022Z"
    },
    "papermill": {
     "duration": 0.012398,
     "end_time": "2024-12-08T20:24:33.541173",
     "exception": false,
     "start_time": "2024-12-08T20:24:33.528775",
     "status": "completed"
    },
    "tags": []
   },
   "source": [
    "# Correlation"
   ]
  },
  {
   "cell_type": "markdown",
   "id": "a9861802",
   "metadata": {
    "papermill": {
     "duration": 0.012233,
     "end_time": "2024-12-08T20:24:33.566054",
     "exception": false,
     "start_time": "2024-12-08T20:24:33.553821",
     "status": "completed"
    },
    "tags": []
   },
   "source": [
    " <div style=\"border-radius:12px;  border:2px solid blue; padding: 15px; background-color:rgb(227, 196, 196); font-size:120%; text-align:left\">\n",
    "    \n",
    "* With large numbers of features to choose from I decided to do some feature selection and check it's impact on the model.\n",
    "* Here I select the features with the strongest correlation with the PCIAT total and drop the weaker ones.\n",
    "* Two features, BMI and sleep disturbance, appear to be measured twice in the data with slighly different results. There is discussion about BMI [here](https://www.kaggle.com/competitions/child-mind-institute-problematic-internet-use/discussion/542014).\n",
    "* Clearly we don't need to keep both sets of features which will be closely correlated with each other even if not identical.\n",
    "* Here I drop Physical-BMI an d SDS-SDS_Total_Raw which appear to have slightly lower correlations."
   ]
  },
  {
   "cell_type": "markdown",
   "id": "1574c3dc",
   "metadata": {},
   "source": []
  },
  {
   "cell_type": "code",
   "execution_count": 15,
   "id": "c4d8e80f",
   "metadata": {
    "execution": {
     "iopub.execute_input": "2024-12-08T20:24:33.593289Z",
     "iopub.status.busy": "2024-12-08T20:24:33.592888Z",
     "iopub.status.idle": "2024-12-08T20:24:33.636689Z",
     "shell.execute_reply": "2024-12-08T20:24:33.635553Z"
    },
    "papermill": {
     "duration": 0.05999,
     "end_time": "2024-12-08T20:24:33.638973",
     "exception": false,
     "start_time": "2024-12-08T20:24:33.578983",
     "status": "completed"
    },
    "tags": []
   },
   "outputs": [
    {
     "data": {
      "text/html": [
       "<style type=\"text/css\">\n",
       "#T_0a458_row0_col0 {\n",
       "  background-color: #800026;\n",
       "  color: #f1f1f1;\n",
       "}\n",
       "#T_0a458_row1_col0 {\n",
       "  background-color: #aa0026;\n",
       "  color: #f1f1f1;\n",
       "}\n",
       "#T_0a458_row2_col0 {\n",
       "  background-color: #fd8f3d;\n",
       "  color: #f1f1f1;\n",
       "}\n",
       "#T_0a458_row3_col0 {\n",
       "  background-color: #fd913e;\n",
       "  color: #000000;\n",
       "}\n",
       "#T_0a458_row4_col0 {\n",
       "  background-color: #fd9a42;\n",
       "  color: #000000;\n",
       "}\n",
       "#T_0a458_row5_col0 {\n",
       "  background-color: #fea044;\n",
       "  color: #000000;\n",
       "}\n",
       "#T_0a458_row6_col0 {\n",
       "  background-color: #fea647;\n",
       "  color: #000000;\n",
       "}\n",
       "#T_0a458_row7_col0 {\n",
       "  background-color: #feb04b;\n",
       "  color: #000000;\n",
       "}\n",
       "#T_0a458_row8_col0 {\n",
       "  background-color: #febb56;\n",
       "  color: #000000;\n",
       "}\n",
       "#T_0a458_row9_col0, #T_0a458_row10_col0 {\n",
       "  background-color: #febe59;\n",
       "  color: #000000;\n",
       "}\n",
       "#T_0a458_row11_col0 {\n",
       "  background-color: #febf5a;\n",
       "  color: #000000;\n",
       "}\n",
       "#T_0a458_row12_col0 {\n",
       "  background-color: #fec35e;\n",
       "  color: #000000;\n",
       "}\n",
       "#T_0a458_row13_col0, #T_0a458_row14_col0 {\n",
       "  background-color: #feca66;\n",
       "  color: #000000;\n",
       "}\n",
       "#T_0a458_row15_col0 {\n",
       "  background-color: #fed470;\n",
       "  color: #000000;\n",
       "}\n",
       "#T_0a458_row16_col0, #T_0a458_row17_col0 {\n",
       "  background-color: #fed774;\n",
       "  color: #000000;\n",
       "}\n",
       "#T_0a458_row18_col0 {\n",
       "  background-color: #fed977;\n",
       "  color: #000000;\n",
       "}\n",
       "#T_0a458_row19_col0 {\n",
       "  background-color: #fedd7e;\n",
       "  color: #000000;\n",
       "}\n",
       "#T_0a458_row20_col0 {\n",
       "  background-color: #fedd7f;\n",
       "  color: #000000;\n",
       "}\n",
       "#T_0a458_row21_col0, #T_0a458_row22_col0 {\n",
       "  background-color: #fee085;\n",
       "  color: #000000;\n",
       "}\n",
       "#T_0a458_row23_col0 {\n",
       "  background-color: #fee288;\n",
       "  color: #000000;\n",
       "}\n",
       "#T_0a458_row24_col0 {\n",
       "  background-color: #fee38b;\n",
       "  color: #000000;\n",
       "}\n",
       "#T_0a458_row25_col0 {\n",
       "  background-color: #ffe58f;\n",
       "  color: #000000;\n",
       "}\n",
       "#T_0a458_row26_col0, #T_0a458_row27_col0, #T_0a458_row28_col0 {\n",
       "  background-color: #ffe590;\n",
       "  color: #000000;\n",
       "}\n",
       "#T_0a458_row29_col0 {\n",
       "  background-color: #ffe793;\n",
       "  color: #000000;\n",
       "}\n",
       "#T_0a458_row30_col0, #T_0a458_row31_col0, #T_0a458_row32_col0, #T_0a458_row33_col0 {\n",
       "  background-color: #ffe794;\n",
       "  color: #000000;\n",
       "}\n",
       "#T_0a458_row34_col0 {\n",
       "  background-color: #ffe895;\n",
       "  color: #000000;\n",
       "}\n",
       "#T_0a458_row35_col0 {\n",
       "  background-color: #ffe997;\n",
       "  color: #000000;\n",
       "}\n",
       "#T_0a458_row36_col0, #T_0a458_row37_col0 {\n",
       "  background-color: #ffe998;\n",
       "  color: #000000;\n",
       "}\n",
       "#T_0a458_row38_col0 {\n",
       "  background-color: #ffea99;\n",
       "  color: #000000;\n",
       "}\n",
       "#T_0a458_row39_col0 {\n",
       "  background-color: #ffec9d;\n",
       "  color: #000000;\n",
       "}\n",
       "#T_0a458_row40_col0 {\n",
       "  background-color: #ffec9f;\n",
       "  color: #000000;\n",
       "}\n",
       "#T_0a458_row41_col0, #T_0a458_row42_col0 {\n",
       "  background-color: #ffeda0;\n",
       "  color: #000000;\n",
       "}\n",
       "#T_0a458_row43_col0, #T_0a458_row44_col0 {\n",
       "  background-color: #ffeda1;\n",
       "  color: #000000;\n",
       "}\n",
       "#T_0a458_row45_col0 {\n",
       "  background-color: #ffefa5;\n",
       "  color: #000000;\n",
       "}\n",
       "#T_0a458_row46_col0 {\n",
       "  background-color: #fff0a7;\n",
       "  color: #000000;\n",
       "}\n",
       "#T_0a458_row47_col0 {\n",
       "  background-color: #fff0a8;\n",
       "  color: #000000;\n",
       "}\n",
       "#T_0a458_row48_col0, #T_0a458_row49_col0, #T_0a458_row50_col0 {\n",
       "  background-color: #fff1ab;\n",
       "  color: #000000;\n",
       "}\n",
       "#T_0a458_row51_col0 {\n",
       "  background-color: #fff2ac;\n",
       "  color: #000000;\n",
       "}\n",
       "#T_0a458_row52_col0 {\n",
       "  background-color: #fff3af;\n",
       "  color: #000000;\n",
       "}\n",
       "#T_0a458_row53_col0 {\n",
       "  background-color: #fff5b5;\n",
       "  color: #000000;\n",
       "}\n",
       "#T_0a458_row54_col0 {\n",
       "  background-color: #fff7b7;\n",
       "  color: #000000;\n",
       "}\n",
       "#T_0a458_row55_col0, #T_0a458_row56_col0 {\n",
       "  background-color: #fff8bb;\n",
       "  color: #000000;\n",
       "}\n",
       "#T_0a458_row57_col0 {\n",
       "  background-color: #fff9bd;\n",
       "  color: #000000;\n",
       "}\n",
       "#T_0a458_row58_col0 {\n",
       "  background-color: #fffac1;\n",
       "  color: #000000;\n",
       "}\n",
       "#T_0a458_row59_col0 {\n",
       "  background-color: #ffffcc;\n",
       "  color: #000000;\n",
       "}\n",
       "</style>\n",
       "<table id=\"T_0a458\">\n",
       "  <thead>\n",
       "    <tr>\n",
       "      <th class=\"blank level0\" >&nbsp;</th>\n",
       "      <th id=\"T_0a458_level0_col0\" class=\"col_heading level0 col0\" >PCIAT-PCIAT_Total</th>\n",
       "    </tr>\n",
       "  </thead>\n",
       "  <tbody>\n",
       "    <tr>\n",
       "      <th id=\"T_0a458_level0_row0\" class=\"row_heading level0 row0\" >PCIAT-PCIAT_Total</th>\n",
       "      <td id=\"T_0a458_row0_col0\" class=\"data row0 col0\" >1.000000</td>\n",
       "    </tr>\n",
       "    <tr>\n",
       "      <th id=\"T_0a458_level0_row1\" class=\"row_heading level0 row1\" >sii</th>\n",
       "      <td id=\"T_0a458_row1_col0\" class=\"data row1 col0\" >0.899681</td>\n",
       "    </tr>\n",
       "    <tr>\n",
       "      <th id=\"T_0a458_level0_row2\" class=\"row_heading level0 row2\" >Physical-Height</th>\n",
       "      <td id=\"T_0a458_row2_col0\" class=\"data row2 col0\" >0.420765</td>\n",
       "    </tr>\n",
       "    <tr>\n",
       "      <th id=\"T_0a458_level0_row3\" class=\"row_heading level0 row3\" >Basic_Demos-Age</th>\n",
       "      <td id=\"T_0a458_row3_col0\" class=\"data row3 col0\" >0.409559</td>\n",
       "    </tr>\n",
       "    <tr>\n",
       "      <th id=\"T_0a458_level0_row4\" class=\"row_heading level0 row4\" >PreInt_EduHx-computerinternet_hoursday</th>\n",
       "      <td id=\"T_0a458_row4_col0\" class=\"data row4 col0\" >0.374124</td>\n",
       "    </tr>\n",
       "    <tr>\n",
       "      <th id=\"T_0a458_level0_row5\" class=\"row_heading level0 row5\" >Physical-Weight</th>\n",
       "      <td id=\"T_0a458_row5_col0\" class=\"data row5 col0\" >0.353048</td>\n",
       "    </tr>\n",
       "    <tr>\n",
       "      <th id=\"T_0a458_level0_row6\" class=\"row_heading level0 row6\" >Physical-Waist_Circumference</th>\n",
       "      <td id=\"T_0a458_row6_col0\" class=\"data row6 col0\" >0.327013</td>\n",
       "    </tr>\n",
       "    <tr>\n",
       "      <th id=\"T_0a458_level0_row7\" class=\"row_heading level0 row7\" >FGC-FGC_CU</th>\n",
       "      <td id=\"T_0a458_row7_col0\" class=\"data row7 col0\" >0.287494</td>\n",
       "    </tr>\n",
       "    <tr>\n",
       "      <th id=\"T_0a458_level0_row8\" class=\"row_heading level0 row8\" >BIA-BIA_BMI</th>\n",
       "      <td id=\"T_0a458_row8_col0\" class=\"data row8 col0\" >0.248060</td>\n",
       "    </tr>\n",
       "    <tr>\n",
       "      <th id=\"T_0a458_level0_row9\" class=\"row_heading level0 row9\" >Physical-BMI</th>\n",
       "      <td id=\"T_0a458_row9_col0\" class=\"data row9 col0\" >0.240858</td>\n",
       "    </tr>\n",
       "    <tr>\n",
       "      <th id=\"T_0a458_level0_row10\" class=\"row_heading level0 row10\" >SDS-SDS_Total_T</th>\n",
       "      <td id=\"T_0a458_row10_col0\" class=\"data row10 col0\" >0.237718</td>\n",
       "    </tr>\n",
       "    <tr>\n",
       "      <th id=\"T_0a458_level0_row11\" class=\"row_heading level0 row11\" >SDS-SDS_Total_Raw</th>\n",
       "      <td id=\"T_0a458_row11_col0\" class=\"data row11 col0\" >0.234432</td>\n",
       "    </tr>\n",
       "    <tr>\n",
       "      <th id=\"T_0a458_level0_row12\" class=\"row_heading level0 row12\" >PAQ_A-Season</th>\n",
       "      <td id=\"T_0a458_row12_col0\" class=\"data row12 col0\" >0.219292</td>\n",
       "    </tr>\n",
       "    <tr>\n",
       "      <th id=\"T_0a458_level0_row13\" class=\"row_heading level0 row13\" >FGC-FGC_PU</th>\n",
       "      <td id=\"T_0a458_row13_col0\" class=\"data row13 col0\" >0.196006</td>\n",
       "    </tr>\n",
       "    <tr>\n",
       "      <th id=\"T_0a458_level0_row14\" class=\"row_heading level0 row14\" >BIA-BIA_Frame_num</th>\n",
       "      <td id=\"T_0a458_row14_col0\" class=\"data row14 col0\" >0.193631</td>\n",
       "    </tr>\n",
       "    <tr>\n",
       "      <th id=\"T_0a458_level0_row15\" class=\"row_heading level0 row15\" >FGC-FGC_GSD</th>\n",
       "      <td id=\"T_0a458_row15_col0\" class=\"data row15 col0\" >0.160472</td>\n",
       "    </tr>\n",
       "    <tr>\n",
       "      <th id=\"T_0a458_level0_row16\" class=\"row_heading level0 row16\" >Physical-Systolic_BP</th>\n",
       "      <td id=\"T_0a458_row16_col0\" class=\"data row16 col0\" >0.147081</td>\n",
       "    </tr>\n",
       "    <tr>\n",
       "      <th id=\"T_0a458_level0_row17\" class=\"row_heading level0 row17\" >FGC-FGC_GSND</th>\n",
       "      <td id=\"T_0a458_row17_col0\" class=\"data row17 col0\" >0.146813</td>\n",
       "    </tr>\n",
       "    <tr>\n",
       "      <th id=\"T_0a458_level0_row18\" class=\"row_heading level0 row18\" >FGC-FGC_TL</th>\n",
       "      <td id=\"T_0a458_row18_col0\" class=\"data row18 col0\" >0.136696</td>\n",
       "    </tr>\n",
       "    <tr>\n",
       "      <th id=\"T_0a458_level0_row19\" class=\"row_heading level0 row19\" >PAQ_C-Season</th>\n",
       "      <td id=\"T_0a458_row19_col0\" class=\"data row19 col0\" >0.115316</td>\n",
       "    </tr>\n",
       "    <tr>\n",
       "      <th id=\"T_0a458_level0_row20\" class=\"row_heading level0 row20\" >BIA-BIA_FFMI</th>\n",
       "      <td id=\"T_0a458_row20_col0\" class=\"data row20 col0\" >0.109694</td>\n",
       "    </tr>\n",
       "    <tr>\n",
       "      <th id=\"T_0a458_level0_row21\" class=\"row_heading level0 row21\" >BIA-BIA_FMI</th>\n",
       "      <td id=\"T_0a458_row21_col0\" class=\"data row21 col0\" >0.085863</td>\n",
       "    </tr>\n",
       "    <tr>\n",
       "      <th id=\"T_0a458_level0_row22\" class=\"row_heading level0 row22\" >BIA-BIA_Activity_Level_num</th>\n",
       "      <td id=\"T_0a458_row22_col0\" class=\"data row22 col0\" >0.084548</td>\n",
       "    </tr>\n",
       "    <tr>\n",
       "      <th id=\"T_0a458_level0_row23\" class=\"row_heading level0 row23\" >BIA-BIA_LST</th>\n",
       "      <td id=\"T_0a458_row23_col0\" class=\"data row23 col0\" >0.075623</td>\n",
       "    </tr>\n",
       "    <tr>\n",
       "      <th id=\"T_0a458_level0_row24\" class=\"row_heading level0 row24\" >Physical-Diastolic_BP</th>\n",
       "      <td id=\"T_0a458_row24_col0\" class=\"data row24 col0\" >0.069321</td>\n",
       "    </tr>\n",
       "    <tr>\n",
       "      <th id=\"T_0a458_level0_row25\" class=\"row_heading level0 row25\" >FGC-FGC_PU_Zone</th>\n",
       "      <td id=\"T_0a458_row25_col0\" class=\"data row25 col0\" >0.056973</td>\n",
       "    </tr>\n",
       "    <tr>\n",
       "      <th id=\"T_0a458_level0_row26\" class=\"row_heading level0 row26\" >BIA-BIA_DEE</th>\n",
       "      <td id=\"T_0a458_row26_col0\" class=\"data row26 col0\" >0.053094</td>\n",
       "    </tr>\n",
       "    <tr>\n",
       "      <th id=\"T_0a458_level0_row27\" class=\"row_heading level0 row27\" >BIA-BIA_SMM</th>\n",
       "      <td id=\"T_0a458_row27_col0\" class=\"data row27 col0\" >0.052912</td>\n",
       "    </tr>\n",
       "    <tr>\n",
       "      <th id=\"T_0a458_level0_row28\" class=\"row_heading level0 row28\" >BIA-BIA_ICW</th>\n",
       "      <td id=\"T_0a458_row28_col0\" class=\"data row28 col0\" >0.052593</td>\n",
       "    </tr>\n",
       "    <tr>\n",
       "      <th id=\"T_0a458_level0_row29\" class=\"row_heading level0 row29\" >BIA-BIA_TBW</th>\n",
       "      <td id=\"T_0a458_row29_col0\" class=\"data row29 col0\" >0.043015</td>\n",
       "    </tr>\n",
       "    <tr>\n",
       "      <th id=\"T_0a458_level0_row30\" class=\"row_heading level0 row30\" >BIA-BIA_Fat</th>\n",
       "      <td id=\"T_0a458_row30_col0\" class=\"data row30 col0\" >0.038548</td>\n",
       "    </tr>\n",
       "    <tr>\n",
       "      <th id=\"T_0a458_level0_row31\" class=\"row_heading level0 row31\" >BIA-BIA_BMR</th>\n",
       "      <td id=\"T_0a458_row31_col0\" class=\"data row31 col0\" >0.037009</td>\n",
       "    </tr>\n",
       "    <tr>\n",
       "      <th id=\"T_0a458_level0_row32\" class=\"row_heading level0 row32\" >BIA-BIA_FFM</th>\n",
       "      <td id=\"T_0a458_row32_col0\" class=\"data row32 col0\" >0.037009</td>\n",
       "    </tr>\n",
       "    <tr>\n",
       "      <th id=\"T_0a458_level0_row33\" class=\"row_heading level0 row33\" >BIA-BIA_ECW</th>\n",
       "      <td id=\"T_0a458_row33_col0\" class=\"data row33 col0\" >0.035568</td>\n",
       "    </tr>\n",
       "    <tr>\n",
       "      <th id=\"T_0a458_level0_row34\" class=\"row_heading level0 row34\" >PreInt_EduHx-Season</th>\n",
       "      <td id=\"T_0a458_row34_col0\" class=\"data row34 col0\" >0.033788</td>\n",
       "    </tr>\n",
       "    <tr>\n",
       "      <th id=\"T_0a458_level0_row35\" class=\"row_heading level0 row35\" >Basic_Demos-Enroll_Season</th>\n",
       "      <td id=\"T_0a458_row35_col0\" class=\"data row35 col0\" >0.029793</td>\n",
       "    </tr>\n",
       "    <tr>\n",
       "      <th id=\"T_0a458_level0_row36\" class=\"row_heading level0 row36\" >BIA-BIA_LDM</th>\n",
       "      <td id=\"T_0a458_row36_col0\" class=\"data row36 col0\" >0.025885</td>\n",
       "    </tr>\n",
       "    <tr>\n",
       "      <th id=\"T_0a458_level0_row37\" class=\"row_heading level0 row37\" >SDS-Season</th>\n",
       "      <td id=\"T_0a458_row37_col0\" class=\"data row37 col0\" >0.025112</td>\n",
       "    </tr>\n",
       "    <tr>\n",
       "      <th id=\"T_0a458_level0_row38\" class=\"row_heading level0 row38\" >Physical-Season</th>\n",
       "      <td id=\"T_0a458_row38_col0\" class=\"data row38 col0\" >0.021411</td>\n",
       "    </tr>\n",
       "    <tr>\n",
       "      <th id=\"T_0a458_level0_row39\" class=\"row_heading level0 row39\" >FGC-FGC_GSD_Zone</th>\n",
       "      <td id=\"T_0a458_row39_col0\" class=\"data row39 col0\" >0.006861</td>\n",
       "    </tr>\n",
       "    <tr>\n",
       "      <th id=\"T_0a458_level0_row40\" class=\"row_heading level0 row40\" >Fitness_Endurance-Time_Sec</th>\n",
       "      <td id=\"T_0a458_row40_col0\" class=\"data row40 col0\" >-0.000373</td>\n",
       "    </tr>\n",
       "    <tr>\n",
       "      <th id=\"T_0a458_level0_row41\" class=\"row_heading level0 row41\" >CGAS-Season</th>\n",
       "      <td id=\"T_0a458_row41_col0\" class=\"data row41 col0\" >-0.003344</td>\n",
       "    </tr>\n",
       "    <tr>\n",
       "      <th id=\"T_0a458_level0_row42\" class=\"row_heading level0 row42\" >FGC-FGC_CU_Zone</th>\n",
       "      <td id=\"T_0a458_row42_col0\" class=\"data row42 col0\" >-0.004454</td>\n",
       "    </tr>\n",
       "    <tr>\n",
       "      <th id=\"T_0a458_level0_row43\" class=\"row_heading level0 row43\" >BIA-BIA_BMC</th>\n",
       "      <td id=\"T_0a458_row43_col0\" class=\"data row43 col0\" >-0.008870</td>\n",
       "    </tr>\n",
       "    <tr>\n",
       "      <th id=\"T_0a458_level0_row44\" class=\"row_heading level0 row44\" >FGC-FGC_GSND_Zone</th>\n",
       "      <td id=\"T_0a458_row44_col0\" class=\"data row44 col0\" >-0.009525</td>\n",
       "    </tr>\n",
       "    <tr>\n",
       "      <th id=\"T_0a458_level0_row45\" class=\"row_heading level0 row45\" >PAQ_C-PAQ_C_Total</th>\n",
       "      <td id=\"T_0a458_row45_col0\" class=\"data row45 col0\" >-0.021943</td>\n",
       "    </tr>\n",
       "    <tr>\n",
       "      <th id=\"T_0a458_level0_row46\" class=\"row_heading level0 row46\" >PAQ_A-PAQ_A_Total</th>\n",
       "      <td id=\"T_0a458_row46_col0\" class=\"data row46 col0\" >-0.026854</td>\n",
       "    </tr>\n",
       "    <tr>\n",
       "      <th id=\"T_0a458_level0_row47\" class=\"row_heading level0 row47\" >FGC-Season</th>\n",
       "      <td id=\"T_0a458_row47_col0\" class=\"data row47 col0\" >-0.030890</td>\n",
       "    </tr>\n",
       "    <tr>\n",
       "      <th id=\"T_0a458_level0_row48\" class=\"row_heading level0 row48\" >FGC-FGC_TL_Zone</th>\n",
       "      <td id=\"T_0a458_row48_col0\" class=\"data row48 col0\" >-0.037214</td>\n",
       "    </tr>\n",
       "    <tr>\n",
       "      <th id=\"T_0a458_level0_row49\" class=\"row_heading level0 row49\" >Physical-HeartRate</th>\n",
       "      <td id=\"T_0a458_row49_col0\" class=\"data row49 col0\" >-0.037594</td>\n",
       "    </tr>\n",
       "    <tr>\n",
       "      <th id=\"T_0a458_level0_row50\" class=\"row_heading level0 row50\" >BIA-Season</th>\n",
       "      <td id=\"T_0a458_row50_col0\" class=\"data row50 col0\" >-0.040922</td>\n",
       "    </tr>\n",
       "    <tr>\n",
       "      <th id=\"T_0a458_level0_row51\" class=\"row_heading level0 row51\" >Fitness_Endurance-Max_Stage</th>\n",
       "      <td id=\"T_0a458_row51_col0\" class=\"data row51 col0\" >-0.041720</td>\n",
       "    </tr>\n",
       "    <tr>\n",
       "      <th id=\"T_0a458_level0_row52\" class=\"row_heading level0 row52\" >Fitness_Endurance-Time_Mins</th>\n",
       "      <td id=\"T_0a458_row52_col0\" class=\"data row52 col0\" >-0.052376</td>\n",
       "    </tr>\n",
       "    <tr>\n",
       "      <th id=\"T_0a458_level0_row53\" class=\"row_heading level0 row53\" >CGAS-CGAS_Score</th>\n",
       "      <td id=\"T_0a458_row53_col0\" class=\"data row53 col0\" >-0.070542</td>\n",
       "    </tr>\n",
       "    <tr>\n",
       "      <th id=\"T_0a458_level0_row54\" class=\"row_heading level0 row54\" >FGC-FGC_SRR</th>\n",
       "      <td id=\"T_0a458_row54_col0\" class=\"data row54 col0\" >-0.077836</td>\n",
       "    </tr>\n",
       "    <tr>\n",
       "      <th id=\"T_0a458_level0_row55\" class=\"row_heading level0 row55\" >FGC-FGC_SRL</th>\n",
       "      <td id=\"T_0a458_row55_col0\" class=\"data row55 col0\" >-0.091221</td>\n",
       "    </tr>\n",
       "    <tr>\n",
       "      <th id=\"T_0a458_level0_row56\" class=\"row_heading level0 row56\" >Basic_Demos-Sex</th>\n",
       "      <td id=\"T_0a458_row56_col0\" class=\"data row56 col0\" >-0.093648</td>\n",
       "    </tr>\n",
       "    <tr>\n",
       "      <th id=\"T_0a458_level0_row57\" class=\"row_heading level0 row57\" >Fitness_Endurance-Season</th>\n",
       "      <td id=\"T_0a458_row57_col0\" class=\"data row57 col0\" >-0.097788</td>\n",
       "    </tr>\n",
       "    <tr>\n",
       "      <th id=\"T_0a458_level0_row58\" class=\"row_heading level0 row58\" >FGC-FGC_SRR_Zone</th>\n",
       "      <td id=\"T_0a458_row58_col0\" class=\"data row58 col0\" >-0.109682</td>\n",
       "    </tr>\n",
       "    <tr>\n",
       "      <th id=\"T_0a458_level0_row59\" class=\"row_heading level0 row59\" >FGC-FGC_SRL_Zone</th>\n",
       "      <td id=\"T_0a458_row59_col0\" class=\"data row59 col0\" >-0.148850</td>\n",
       "    </tr>\n",
       "  </tbody>\n",
       "</table>\n"
      ],
      "text/plain": [
       "<pandas.io.formats.style.Styler at 0x7fd381c1f190>"
      ]
     },
     "execution_count": 15,
     "metadata": {},
     "output_type": "execute_result"
    }
   ],
   "source": [
    "corr = pd.DataFrame(train.corr()['PCIAT-PCIAT_Total'].sort_values(ascending = False))\n",
    "corr.style.background_gradient(cmap='YlOrRd')"
   ]
  },
  {
   "cell_type": "code",
   "execution_count": 16,
   "id": "b9190a63",
   "metadata": {
    "execution": {
     "iopub.execute_input": "2024-12-08T20:24:33.666881Z",
     "iopub.status.busy": "2024-12-08T20:24:33.666505Z",
     "iopub.status.idle": "2024-12-08T20:24:33.673367Z",
     "shell.execute_reply": "2024-12-08T20:24:33.672291Z"
    },
    "papermill": {
     "duration": 0.023233,
     "end_time": "2024-12-08T20:24:33.675463",
     "exception": false,
     "start_time": "2024-12-08T20:24:33.652230",
     "status": "completed"
    },
    "tags": []
   },
   "outputs": [],
   "source": [
    "selection = corr[(corr['PCIAT-PCIAT_Total']>.1) | (corr['PCIAT-PCIAT_Total']<-.1)]\n",
    "selection = [val for val in selection.index]\n",
    "selection.remove('PCIAT-PCIAT_Total')\n",
    "selection.remove('sii')\n",
    "selection.remove('Physical-BMI')\n",
    "selection.remove('SDS-SDS_Total_Raw')"
   ]
  },
  {
   "cell_type": "code",
   "execution_count": 17,
   "id": "677f056f",
   "metadata": {
    "execution": {
     "iopub.execute_input": "2024-12-08T20:24:33.704355Z",
     "iopub.status.busy": "2024-12-08T20:24:33.703578Z",
     "iopub.status.idle": "2024-12-08T20:24:33.711673Z",
     "shell.execute_reply": "2024-12-08T20:24:33.710382Z"
    },
    "papermill": {
     "duration": 0.025291,
     "end_time": "2024-12-08T20:24:33.714330",
     "exception": false,
     "start_time": "2024-12-08T20:24:33.689039",
     "status": "completed"
    },
    "tags": []
   },
   "outputs": [
    {
     "data": {
      "text/plain": [
       "['Physical-Height',\n",
       " 'Basic_Demos-Age',\n",
       " 'PreInt_EduHx-computerinternet_hoursday',\n",
       " 'Physical-Weight',\n",
       " 'Physical-Waist_Circumference',\n",
       " 'FGC-FGC_CU',\n",
       " 'BIA-BIA_BMI',\n",
       " 'SDS-SDS_Total_T',\n",
       " 'PAQ_A-Season',\n",
       " 'FGC-FGC_PU',\n",
       " 'BIA-BIA_Frame_num',\n",
       " 'FGC-FGC_GSD',\n",
       " 'Physical-Systolic_BP',\n",
       " 'FGC-FGC_GSND',\n",
       " 'FGC-FGC_TL',\n",
       " 'PAQ_C-Season',\n",
       " 'BIA-BIA_FFMI',\n",
       " 'FGC-FGC_SRR_Zone',\n",
       " 'FGC-FGC_SRL_Zone']"
      ]
     },
     "execution_count": 17,
     "metadata": {},
     "output_type": "execute_result"
    }
   ],
   "source": [
    "selection"
   ]
  },
  {
   "cell_type": "code",
   "execution_count": 18,
   "id": "04f6ba1a",
   "metadata": {
    "execution": {
     "iopub.execute_input": "2024-12-08T20:24:33.797230Z",
     "iopub.status.busy": "2024-12-08T20:24:33.796414Z",
     "iopub.status.idle": "2024-12-08T20:24:33.817220Z",
     "shell.execute_reply": "2024-12-08T20:24:33.815548Z"
    },
    "papermill": {
     "duration": 0.038006,
     "end_time": "2024-12-08T20:24:33.819751",
     "exception": false,
     "start_time": "2024-12-08T20:24:33.781745",
     "status": "completed"
    },
    "tags": []
   },
   "outputs": [
    {
     "data": {
      "text/html": [
       "<style type=\"text/css\">\n",
       "#T_595df_row0_col0 {\n",
       "  background-color: #800026;\n",
       "  color: #f1f1f1;\n",
       "}\n",
       "#T_595df_row1_col0 {\n",
       "  background-color: #990026;\n",
       "  color: #f1f1f1;\n",
       "}\n",
       "#T_595df_row2_col0, #T_595df_row3_col0 {\n",
       "  background-color: #c70723;\n",
       "  color: #f1f1f1;\n",
       "}\n",
       "#T_595df_row4_col0 {\n",
       "  background-color: #c80723;\n",
       "  color: #f1f1f1;\n",
       "}\n",
       "#T_595df_row5_col0, #T_595df_row6_col0 {\n",
       "  background-color: #d9131f;\n",
       "  color: #f1f1f1;\n",
       "}\n",
       "#T_595df_row7_col0, #T_595df_row8_col0 {\n",
       "  background-color: #da141e;\n",
       "  color: #f1f1f1;\n",
       "}\n",
       "#T_595df_row9_col0 {\n",
       "  background-color: #fd7e38;\n",
       "  color: #f1f1f1;\n",
       "}\n",
       "#T_595df_row10_col0, #T_595df_row11_col0, #T_595df_row12_col0, #T_595df_row13_col0, #T_595df_row14_col0, #T_595df_row15_col0, #T_595df_row16_col0, #T_595df_row17_col0, #T_595df_row18_col0, #T_595df_row19_col0, #T_595df_row20_col0, #T_595df_row21_col0, #T_595df_row22_col0, #T_595df_row23_col0, #T_595df_row24_col0, #T_595df_row25_col0 {\n",
       "  background-color: #feb54f;\n",
       "  color: #000000;\n",
       "}\n",
       "#T_595df_row26_col0 {\n",
       "  background-color: #febd57;\n",
       "  color: #000000;\n",
       "}\n",
       "#T_595df_row27_col0, #T_595df_row28_col0, #T_595df_row29_col0 {\n",
       "  background-color: #febe59;\n",
       "  color: #000000;\n",
       "}\n",
       "#T_595df_row30_col0 {\n",
       "  background-color: #febf5a;\n",
       "  color: #000000;\n",
       "}\n",
       "#T_595df_row31_col0, #T_595df_row32_col0 {\n",
       "  background-color: #fec15d;\n",
       "  color: #000000;\n",
       "}\n",
       "#T_595df_row33_col0, #T_595df_row34_col0, #T_595df_row35_col0 {\n",
       "  background-color: #fec35e;\n",
       "  color: #000000;\n",
       "}\n",
       "#T_595df_row36_col0 {\n",
       "  background-color: #ffec9d;\n",
       "  color: #000000;\n",
       "}\n",
       "#T_595df_row37_col0, #T_595df_row38_col0 {\n",
       "  background-color: #fff4b2;\n",
       "  color: #000000;\n",
       "}\n",
       "#T_595df_row39_col0 {\n",
       "  background-color: #fff5b3;\n",
       "  color: #000000;\n",
       "}\n",
       "#T_595df_row40_col0, #T_595df_row41_col0, #T_595df_row42_col0 {\n",
       "  background-color: #fff7b9;\n",
       "  color: #000000;\n",
       "}\n",
       "#T_595df_row43_col0 {\n",
       "  background-color: #fff8ba;\n",
       "  color: #000000;\n",
       "}\n",
       "#T_595df_row44_col0 {\n",
       "  background-color: #fffac0;\n",
       "  color: #000000;\n",
       "}\n",
       "#T_595df_row45_col0 {\n",
       "  background-color: #ffffcc;\n",
       "  color: #000000;\n",
       "}\n",
       "</style>\n",
       "<table id=\"T_595df\">\n",
       "  <thead>\n",
       "    <tr>\n",
       "      <th class=\"blank level0\" >&nbsp;</th>\n",
       "      <th id=\"T_595df_level0_col0\" class=\"col_heading level0 col0\" >Missing</th>\n",
       "    </tr>\n",
       "  </thead>\n",
       "  <tbody>\n",
       "    <tr>\n",
       "      <th id=\"T_595df_level0_row0\" class=\"row_heading level0 row0\" >PAQ_A-PAQ_A_Total</th>\n",
       "      <td id=\"T_595df_row0_col0\" class=\"data row0 col0\" >2373</td>\n",
       "    </tr>\n",
       "    <tr>\n",
       "      <th id=\"T_595df_level0_row1\" class=\"row_heading level0 row1\" >Physical-Waist_Circumference</th>\n",
       "      <td id=\"T_595df_row1_col0\" class=\"data row1 col0\" >2253</td>\n",
       "    </tr>\n",
       "    <tr>\n",
       "      <th id=\"T_595df_level0_row2\" class=\"row_heading level0 row2\" >Fitness_Endurance-Time_Sec</th>\n",
       "      <td id=\"T_595df_row2_col0\" class=\"data row2 col0\" >2008</td>\n",
       "    </tr>\n",
       "    <tr>\n",
       "      <th id=\"T_595df_level0_row3\" class=\"row_heading level0 row3\" >Fitness_Endurance-Time_Mins</th>\n",
       "      <td id=\"T_595df_row3_col0\" class=\"data row3 col0\" >2008</td>\n",
       "    </tr>\n",
       "    <tr>\n",
       "      <th id=\"T_595df_level0_row4\" class=\"row_heading level0 row4\" >Fitness_Endurance-Max_Stage</th>\n",
       "      <td id=\"T_595df_row4_col0\" class=\"data row4 col0\" >2005</td>\n",
       "    </tr>\n",
       "    <tr>\n",
       "      <th id=\"T_595df_level0_row5\" class=\"row_heading level0 row5\" >FGC-FGC_GSD_Zone</th>\n",
       "      <td id=\"T_595df_row5_col0\" class=\"data row5 col0\" >1872</td>\n",
       "    </tr>\n",
       "    <tr>\n",
       "      <th id=\"T_595df_level0_row6\" class=\"row_heading level0 row6\" >FGC-FGC_GSND_Zone</th>\n",
       "      <td id=\"T_595df_row6_col0\" class=\"data row6 col0\" >1872</td>\n",
       "    </tr>\n",
       "    <tr>\n",
       "      <th id=\"T_595df_level0_row7\" class=\"row_heading level0 row7\" >FGC-FGC_GSD</th>\n",
       "      <td id=\"T_595df_row7_col0\" class=\"data row7 col0\" >1865</td>\n",
       "    </tr>\n",
       "    <tr>\n",
       "      <th id=\"T_595df_level0_row8\" class=\"row_heading level0 row8\" >FGC-FGC_GSND</th>\n",
       "      <td id=\"T_595df_row8_col0\" class=\"data row8 col0\" >1864</td>\n",
       "    </tr>\n",
       "    <tr>\n",
       "      <th id=\"T_595df_level0_row9\" class=\"row_heading level0 row9\" >PAQ_C-PAQ_C_Total</th>\n",
       "      <td id=\"T_595df_row9_col0\" class=\"data row9 col0\" >1296</td>\n",
       "    </tr>\n",
       "    <tr>\n",
       "      <th id=\"T_595df_level0_row10\" class=\"row_heading level0 row10\" >BIA-BIA_DEE</th>\n",
       "      <td id=\"T_595df_row10_col0\" class=\"data row10 col0\" >923</td>\n",
       "    </tr>\n",
       "    <tr>\n",
       "      <th id=\"T_595df_level0_row11\" class=\"row_heading level0 row11\" >BIA-BIA_BMI</th>\n",
       "      <td id=\"T_595df_row11_col0\" class=\"data row11 col0\" >923</td>\n",
       "    </tr>\n",
       "    <tr>\n",
       "      <th id=\"T_595df_level0_row12\" class=\"row_heading level0 row12\" >BIA-BIA_BMR</th>\n",
       "      <td id=\"T_595df_row12_col0\" class=\"data row12 col0\" >923</td>\n",
       "    </tr>\n",
       "    <tr>\n",
       "      <th id=\"T_595df_level0_row13\" class=\"row_heading level0 row13\" >BIA-BIA_BMC</th>\n",
       "      <td id=\"T_595df_row13_col0\" class=\"data row13 col0\" >923</td>\n",
       "    </tr>\n",
       "    <tr>\n",
       "      <th id=\"T_595df_level0_row14\" class=\"row_heading level0 row14\" >BIA-BIA_Activity_Level_num</th>\n",
       "      <td id=\"T_595df_row14_col0\" class=\"data row14 col0\" >923</td>\n",
       "    </tr>\n",
       "    <tr>\n",
       "      <th id=\"T_595df_level0_row15\" class=\"row_heading level0 row15\" >BIA-BIA_ECW</th>\n",
       "      <td id=\"T_595df_row15_col0\" class=\"data row15 col0\" >923</td>\n",
       "    </tr>\n",
       "    <tr>\n",
       "      <th id=\"T_595df_level0_row16\" class=\"row_heading level0 row16\" >BIA-BIA_SMM</th>\n",
       "      <td id=\"T_595df_row16_col0\" class=\"data row16 col0\" >923</td>\n",
       "    </tr>\n",
       "    <tr>\n",
       "      <th id=\"T_595df_level0_row17\" class=\"row_heading level0 row17\" >BIA-BIA_FFMI</th>\n",
       "      <td id=\"T_595df_row17_col0\" class=\"data row17 col0\" >923</td>\n",
       "    </tr>\n",
       "    <tr>\n",
       "      <th id=\"T_595df_level0_row18\" class=\"row_heading level0 row18\" >BIA-BIA_FMI</th>\n",
       "      <td id=\"T_595df_row18_col0\" class=\"data row18 col0\" >923</td>\n",
       "    </tr>\n",
       "    <tr>\n",
       "      <th id=\"T_595df_level0_row19\" class=\"row_heading level0 row19\" >BIA-BIA_TBW</th>\n",
       "      <td id=\"T_595df_row19_col0\" class=\"data row19 col0\" >923</td>\n",
       "    </tr>\n",
       "    <tr>\n",
       "      <th id=\"T_595df_level0_row20\" class=\"row_heading level0 row20\" >BIA-BIA_Fat</th>\n",
       "      <td id=\"T_595df_row20_col0\" class=\"data row20 col0\" >923</td>\n",
       "    </tr>\n",
       "    <tr>\n",
       "      <th id=\"T_595df_level0_row21\" class=\"row_heading level0 row21\" >BIA-BIA_Frame_num</th>\n",
       "      <td id=\"T_595df_row21_col0\" class=\"data row21 col0\" >923</td>\n",
       "    </tr>\n",
       "    <tr>\n",
       "      <th id=\"T_595df_level0_row22\" class=\"row_heading level0 row22\" >BIA-BIA_ICW</th>\n",
       "      <td id=\"T_595df_row22_col0\" class=\"data row22 col0\" >923</td>\n",
       "    </tr>\n",
       "    <tr>\n",
       "      <th id=\"T_595df_level0_row23\" class=\"row_heading level0 row23\" >BIA-BIA_LDM</th>\n",
       "      <td id=\"T_595df_row23_col0\" class=\"data row23 col0\" >923</td>\n",
       "    </tr>\n",
       "    <tr>\n",
       "      <th id=\"T_595df_level0_row24\" class=\"row_heading level0 row24\" >BIA-BIA_FFM</th>\n",
       "      <td id=\"T_595df_row24_col0\" class=\"data row24 col0\" >923</td>\n",
       "    </tr>\n",
       "    <tr>\n",
       "      <th id=\"T_595df_level0_row25\" class=\"row_heading level0 row25\" >BIA-BIA_LST</th>\n",
       "      <td id=\"T_595df_row25_col0\" class=\"data row25 col0\" >923</td>\n",
       "    </tr>\n",
       "    <tr>\n",
       "      <th id=\"T_595df_level0_row26\" class=\"row_heading level0 row26\" >FGC-FGC_PU_Zone</th>\n",
       "      <td id=\"T_595df_row26_col0\" class=\"data row26 col0\" >861</td>\n",
       "    </tr>\n",
       "    <tr>\n",
       "      <th id=\"T_595df_level0_row27\" class=\"row_heading level0 row27\" >FGC-FGC_SRL_Zone</th>\n",
       "      <td id=\"T_595df_row27_col0\" class=\"data row27 col0\" >859</td>\n",
       "    </tr>\n",
       "    <tr>\n",
       "      <th id=\"T_595df_level0_row28\" class=\"row_heading level0 row28\" >FGC-FGC_SRR_Zone</th>\n",
       "      <td id=\"T_595df_row28_col0\" class=\"data row28 col0\" >857</td>\n",
       "    </tr>\n",
       "    <tr>\n",
       "      <th id=\"T_595df_level0_row29\" class=\"row_heading level0 row29\" >FGC-FGC_CU_Zone</th>\n",
       "      <td id=\"T_595df_row29_col0\" class=\"data row29 col0\" >852</td>\n",
       "    </tr>\n",
       "    <tr>\n",
       "      <th id=\"T_595df_level0_row30\" class=\"row_heading level0 row30\" >FGC-FGC_TL_Zone</th>\n",
       "      <td id=\"T_595df_row30_col0\" class=\"data row30 col0\" >851</td>\n",
       "    </tr>\n",
       "    <tr>\n",
       "      <th id=\"T_595df_level0_row31\" class=\"row_heading level0 row31\" >FGC-FGC_PU</th>\n",
       "      <td id=\"T_595df_row31_col0\" class=\"data row31 col0\" >827</td>\n",
       "    </tr>\n",
       "    <tr>\n",
       "      <th id=\"T_595df_level0_row32\" class=\"row_heading level0 row32\" >FGC-FGC_SRL</th>\n",
       "      <td id=\"T_595df_row32_col0\" class=\"data row32 col0\" >825</td>\n",
       "    </tr>\n",
       "    <tr>\n",
       "      <th id=\"T_595df_level0_row33\" class=\"row_heading level0 row33\" >FGC-FGC_SRR</th>\n",
       "      <td id=\"T_595df_row33_col0\" class=\"data row33 col0\" >823</td>\n",
       "    </tr>\n",
       "    <tr>\n",
       "      <th id=\"T_595df_level0_row34\" class=\"row_heading level0 row34\" >FGC-FGC_TL</th>\n",
       "      <td id=\"T_595df_row34_col0\" class=\"data row34 col0\" >817</td>\n",
       "    </tr>\n",
       "    <tr>\n",
       "      <th id=\"T_595df_level0_row35\" class=\"row_heading level0 row35\" >FGC-FGC_CU</th>\n",
       "      <td id=\"T_595df_row35_col0\" class=\"data row35 col0\" >817</td>\n",
       "    </tr>\n",
       "    <tr>\n",
       "      <th id=\"T_595df_level0_row36\" class=\"row_heading level0 row36\" >CGAS-CGAS_Score</th>\n",
       "      <td id=\"T_595df_row36_col0\" class=\"data row36 col0\" >394</td>\n",
       "    </tr>\n",
       "    <tr>\n",
       "      <th id=\"T_595df_level0_row37\" class=\"row_heading level0 row37\" >Physical-Systolic_BP</th>\n",
       "      <td id=\"T_595df_row37_col0\" class=\"data row37 col0\" >258</td>\n",
       "    </tr>\n",
       "    <tr>\n",
       "      <th id=\"T_595df_level0_row38\" class=\"row_heading level0 row38\" >Physical-Diastolic_BP</th>\n",
       "      <td id=\"T_595df_row38_col0\" class=\"data row38 col0\" >258</td>\n",
       "    </tr>\n",
       "    <tr>\n",
       "      <th id=\"T_595df_level0_row39\" class=\"row_heading level0 row39\" >Physical-HeartRate</th>\n",
       "      <td id=\"T_595df_row39_col0\" class=\"data row39 col0\" >250</td>\n",
       "    </tr>\n",
       "    <tr>\n",
       "      <th id=\"T_595df_level0_row40\" class=\"row_heading level0 row40\" >SDS-SDS_Total_T</th>\n",
       "      <td id=\"T_595df_row40_col0\" class=\"data row40 col0\" >211</td>\n",
       "    </tr>\n",
       "    <tr>\n",
       "      <th id=\"T_595df_level0_row41\" class=\"row_heading level0 row41\" >SDS-SDS_Total_Raw</th>\n",
       "      <td id=\"T_595df_row41_col0\" class=\"data row41 col0\" >209</td>\n",
       "    </tr>\n",
       "    <tr>\n",
       "      <th id=\"T_595df_level0_row42\" class=\"row_heading level0 row42\" >Physical-BMI</th>\n",
       "      <td id=\"T_595df_row42_col0\" class=\"data row42 col0\" >209</td>\n",
       "    </tr>\n",
       "    <tr>\n",
       "      <th id=\"T_595df_level0_row43\" class=\"row_heading level0 row43\" >Physical-Height</th>\n",
       "      <td id=\"T_595df_row43_col0\" class=\"data row43 col0\" >206</td>\n",
       "    </tr>\n",
       "    <tr>\n",
       "      <th id=\"T_595df_level0_row44\" class=\"row_heading level0 row44\" >Physical-Weight</th>\n",
       "      <td id=\"T_595df_row44_col0\" class=\"data row44 col0\" >164</td>\n",
       "    </tr>\n",
       "    <tr>\n",
       "      <th id=\"T_595df_level0_row45\" class=\"row_heading level0 row45\" >PreInt_EduHx-computerinternet_hoursday</th>\n",
       "      <td id=\"T_595df_row45_col0\" class=\"data row45 col0\" >82</td>\n",
       "    </tr>\n",
       "  </tbody>\n",
       "</table>\n"
      ],
      "text/plain": [
       "<pandas.io.formats.style.Styler at 0x7fd38152ac20>"
      ]
     },
     "execution_count": 18,
     "metadata": {},
     "output_type": "execute_result"
    }
   ],
   "source": [
    "null = train.isna().sum().sort_values(ascending = False).head(46)\n",
    "null = pd.DataFrame(null)\n",
    "null = null.rename(columns= {0:'Missing'})\n",
    "null.style.background_gradient(cmap='YlOrRd')"
   ]
  },
  {
   "cell_type": "code",
   "execution_count": 19,
   "id": "9699113d",
   "metadata": {
    "execution": {
     "iopub.execute_input": "2024-12-08T20:24:33.850986Z",
     "iopub.status.busy": "2024-12-08T20:24:33.850607Z",
     "iopub.status.idle": "2024-12-08T20:24:33.860705Z",
     "shell.execute_reply": "2024-12-08T20:24:33.859656Z"
    },
    "papermill": {
     "duration": 0.02858,
     "end_time": "2024-12-08T20:24:33.863279",
     "exception": false,
     "start_time": "2024-12-08T20:24:33.834699",
     "status": "completed"
    },
    "tags": []
   },
   "outputs": [
    {
     "data": {
      "text/plain": [
       "['Physical-Waist_Circumference',\n",
       " 'Fitness_Endurance-Max_Stage',\n",
       " 'Fitness_Endurance-Time_Mins',\n",
       " 'Fitness_Endurance-Time_Sec',\n",
       " 'FGC-FGC_GSND',\n",
       " 'FGC-FGC_GSND_Zone',\n",
       " 'FGC-FGC_GSD',\n",
       " 'FGC-FGC_GSD_Zone',\n",
       " 'PAQ_A-PAQ_A_Total']"
      ]
     },
     "execution_count": 19,
     "metadata": {},
     "output_type": "execute_result"
    }
   ],
   "source": [
    "half_missing = [val for val in train.columns[train.isnull().sum()>len(train)/2]]\n",
    "half_missing"
   ]
  },
  {
   "cell_type": "code",
   "execution_count": 20,
   "id": "a63f629b",
   "metadata": {
    "execution": {
     "iopub.execute_input": "2024-12-08T20:24:33.894896Z",
     "iopub.status.busy": "2024-12-08T20:24:33.894494Z",
     "iopub.status.idle": "2024-12-08T20:24:33.899596Z",
     "shell.execute_reply": "2024-12-08T20:24:33.898422Z"
    },
    "papermill": {
     "duration": 0.024109,
     "end_time": "2024-12-08T20:24:33.901746",
     "exception": false,
     "start_time": "2024-12-08T20:24:33.877637",
     "status": "completed"
    },
    "tags": []
   },
   "outputs": [],
   "source": [
    "selection = [i for i in selection if i not in half_missing]"
   ]
  },
  {
   "cell_type": "markdown",
   "id": "d73255b4",
   "metadata": {
    "execution": {
     "iopub.execute_input": "2024-10-05T13:59:54.552525Z",
     "iopub.status.busy": "2024-10-05T13:59:54.552101Z",
     "iopub.status.idle": "2024-10-05T13:59:54.560829Z",
     "shell.execute_reply": "2024-10-05T13:59:54.559313Z",
     "shell.execute_reply.started": "2024-10-05T13:59:54.552484Z"
    },
    "papermill": {
     "duration": 0.013458,
     "end_time": "2024-12-08T20:24:33.956272",
     "exception": false,
     "start_time": "2024-12-08T20:24:33.942814",
     "status": "completed"
    },
    "tags": []
   },
   "source": [
    " <div style=\"border-radius:12px;  border:2px solid blue; padding: 15px; background-color: #f6f5f5; font-size:120%; text-align:left\">\n",
    "\n",
    "* We now have 16 selected features based on a) correlation with the target and b) relatively few missing values.\n",
    "* The idea is to create a robust model that focuses on key signals in the data and reduces some of the excess noise from large numbers of features.\n",
    "* Some of the min and max values appear to be impossible (such as a minimum weight of zero) or very unlikely."
   ]
  },
  {
   "cell_type": "code",
   "execution_count": 21,
   "id": "36310579",
   "metadata": {
    "execution": {
     "iopub.execute_input": "2024-12-08T20:24:33.985451Z",
     "iopub.status.busy": "2024-12-08T20:24:33.985018Z",
     "iopub.status.idle": "2024-12-08T20:24:34.032016Z",
     "shell.execute_reply": "2024-12-08T20:24:34.030793Z"
    },
    "papermill": {
     "duration": 0.064264,
     "end_time": "2024-12-08T20:24:34.034294",
     "exception": false,
     "start_time": "2024-12-08T20:24:33.970030",
     "status": "completed"
    },
    "tags": []
   },
   "outputs": [
    {
     "data": {
      "text/html": [
       "<style type=\"text/css\">\n",
       "#T_e5560_row0_col0, #T_e5560_row4_col0, #T_e5560_row5_col0, #T_e5560_row6_col0, #T_e5560_row6_col1, #T_e5560_row7_col0, #T_e5560_row7_col1, #T_e5560_row8_col0, #T_e5560_row9_col0, #T_e5560_row10_col0, #T_e5560_row13_col0, #T_e5560_row14_col0 {\n",
       "  background-color: #ffffcc;\n",
       "  color: #000000;\n",
       "}\n",
       "#T_e5560_row0_col1 {\n",
       "  background-color: #ffe998;\n",
       "  color: #000000;\n",
       "}\n",
       "#T_e5560_row1_col0 {\n",
       "  background-color: #ffe794;\n",
       "  color: #000000;\n",
       "}\n",
       "#T_e5560_row1_col1 {\n",
       "  background-color: #ef3323;\n",
       "  color: #f1f1f1;\n",
       "}\n",
       "#T_e5560_row2_col0 {\n",
       "  background-color: #fffcc5;\n",
       "  color: #000000;\n",
       "}\n",
       "#T_e5560_row2_col1, #T_e5560_row14_col1 {\n",
       "  background-color: #fffecb;\n",
       "  color: #000000;\n",
       "}\n",
       "#T_e5560_row3_col0 {\n",
       "  background-color: #fff0a8;\n",
       "  color: #000000;\n",
       "}\n",
       "#T_e5560_row3_col1 {\n",
       "  background-color: #fff5b5;\n",
       "  color: #000000;\n",
       "}\n",
       "#T_e5560_row4_col1 {\n",
       "  background-color: #feb651;\n",
       "  color: #000000;\n",
       "}\n",
       "#T_e5560_row5_col1 {\n",
       "  background-color: #ffe895;\n",
       "  color: #000000;\n",
       "}\n",
       "#T_e5560_row8_col1 {\n",
       "  background-color: #fff6b6;\n",
       "  color: #000000;\n",
       "}\n",
       "#T_e5560_row9_col1, #T_e5560_row10_col1 {\n",
       "  background-color: #fffec9;\n",
       "  color: #000000;\n",
       "}\n",
       "#T_e5560_row11_col0 {\n",
       "  background-color: #e61f1d;\n",
       "  color: #f1f1f1;\n",
       "}\n",
       "#T_e5560_row11_col1 {\n",
       "  background-color: #fed977;\n",
       "  color: #000000;\n",
       "}\n",
       "#T_e5560_row12_col0, #T_e5560_row13_col1 {\n",
       "  background-color: #800026;\n",
       "  color: #f1f1f1;\n",
       "}\n",
       "#T_e5560_row12_col1 {\n",
       "  background-color: #f84628;\n",
       "  color: #f1f1f1;\n",
       "}\n",
       "#T_e5560_row15_col0 {\n",
       "  background-color: #db141e;\n",
       "  color: #f1f1f1;\n",
       "}\n",
       "#T_e5560_row15_col1 {\n",
       "  background-color: #fec561;\n",
       "  color: #000000;\n",
       "}\n",
       "</style>\n",
       "<table id=\"T_e5560\">\n",
       "  <thead>\n",
       "    <tr>\n",
       "      <th class=\"blank level0\" >&nbsp;</th>\n",
       "      <th id=\"T_e5560_level0_col0\" class=\"col_heading level0 col0\" >min</th>\n",
       "      <th id=\"T_e5560_level0_col1\" class=\"col_heading level0 col1\" >max</th>\n",
       "    </tr>\n",
       "  </thead>\n",
       "  <tbody>\n",
       "    <tr>\n",
       "      <th id=\"T_e5560_level0_row0\" class=\"row_heading level0 row0\" >BIA-BIA_BMI</th>\n",
       "      <td id=\"T_e5560_row0_col0\" class=\"data row0 col0\" >0.048267</td>\n",
       "      <td id=\"T_e5560_row0_col1\" class=\"data row0 col1\" >48.375400</td>\n",
       "    </tr>\n",
       "    <tr>\n",
       "      <th id=\"T_e5560_level0_row1\" class=\"row_heading level0 row1\" >BIA-BIA_FFMI</th>\n",
       "      <td id=\"T_e5560_row1_col0\" class=\"data row1 col0\" >7.864850</td>\n",
       "      <td id=\"T_e5560_row1_col1\" class=\"data row1 col1\" >217.771000</td>\n",
       "    </tr>\n",
       "    <tr>\n",
       "      <th id=\"T_e5560_level0_row2\" class=\"row_heading level0 row2\" >BIA-BIA_Frame_num</th>\n",
       "      <td id=\"T_e5560_row2_col0\" class=\"data row2 col0\" >1.000000</td>\n",
       "      <td id=\"T_e5560_row2_col1\" class=\"data row2 col1\" >3.000000</td>\n",
       "    </tr>\n",
       "    <tr>\n",
       "      <th id=\"T_e5560_level0_row3\" class=\"row_heading level0 row3\" >Basic_Demos-Age</th>\n",
       "      <td id=\"T_e5560_row3_col0\" class=\"data row3 col0\" >5.000000</td>\n",
       "      <td id=\"T_e5560_row3_col1\" class=\"data row3 col1\" >22.000000</td>\n",
       "    </tr>\n",
       "    <tr>\n",
       "      <th id=\"T_e5560_level0_row4\" class=\"row_heading level0 row4\" >FGC-FGC_CU</th>\n",
       "      <td id=\"T_e5560_row4_col0\" class=\"data row4 col0\" >0.000000</td>\n",
       "      <td id=\"T_e5560_row4_col1\" class=\"data row4 col1\" >115.000000</td>\n",
       "    </tr>\n",
       "    <tr>\n",
       "      <th id=\"T_e5560_level0_row5\" class=\"row_heading level0 row5\" >FGC-FGC_PU</th>\n",
       "      <td id=\"T_e5560_row5_col0\" class=\"data row5 col0\" >0.000000</td>\n",
       "      <td id=\"T_e5560_row5_col1\" class=\"data row5 col1\" >51.000000</td>\n",
       "    </tr>\n",
       "    <tr>\n",
       "      <th id=\"T_e5560_level0_row6\" class=\"row_heading level0 row6\" >FGC-FGC_SRL_Zone</th>\n",
       "      <td id=\"T_e5560_row6_col0\" class=\"data row6 col0\" >0.000000</td>\n",
       "      <td id=\"T_e5560_row6_col1\" class=\"data row6 col1\" >1.000000</td>\n",
       "    </tr>\n",
       "    <tr>\n",
       "      <th id=\"T_e5560_level0_row7\" class=\"row_heading level0 row7\" >FGC-FGC_SRR_Zone</th>\n",
       "      <td id=\"T_e5560_row7_col0\" class=\"data row7 col0\" >0.000000</td>\n",
       "      <td id=\"T_e5560_row7_col1\" class=\"data row7 col1\" >1.000000</td>\n",
       "    </tr>\n",
       "    <tr>\n",
       "      <th id=\"T_e5560_level0_row8\" class=\"row_heading level0 row8\" >FGC-FGC_TL</th>\n",
       "      <td id=\"T_e5560_row8_col0\" class=\"data row8 col0\" >0.000000</td>\n",
       "      <td id=\"T_e5560_row8_col1\" class=\"data row8 col1\" >21.000000</td>\n",
       "    </tr>\n",
       "    <tr>\n",
       "      <th id=\"T_e5560_level0_row9\" class=\"row_heading level0 row9\" >PAQ_A-Season</th>\n",
       "      <td id=\"T_e5560_row9_col0\" class=\"data row9 col0\" >0.000000</td>\n",
       "      <td id=\"T_e5560_row9_col1\" class=\"data row9 col1\" >4.000000</td>\n",
       "    </tr>\n",
       "    <tr>\n",
       "      <th id=\"T_e5560_level0_row10\" class=\"row_heading level0 row10\" >PAQ_C-Season</th>\n",
       "      <td id=\"T_e5560_row10_col0\" class=\"data row10 col0\" >0.000000</td>\n",
       "      <td id=\"T_e5560_row10_col1\" class=\"data row10 col1\" >4.000000</td>\n",
       "    </tr>\n",
       "    <tr>\n",
       "      <th id=\"T_e5560_level0_row11\" class=\"row_heading level0 row11\" >Physical-Height</th>\n",
       "      <td id=\"T_e5560_row11_col0\" class=\"data row11 col0\" >36.000000</td>\n",
       "      <td id=\"T_e5560_row11_col1\" class=\"data row11 col1\" >78.500000</td>\n",
       "    </tr>\n",
       "    <tr>\n",
       "      <th id=\"T_e5560_level0_row12\" class=\"row_heading level0 row12\" >Physical-Systolic_BP</th>\n",
       "      <td id=\"T_e5560_row12_col0\" class=\"data row12 col0\" >49.000000</td>\n",
       "      <td id=\"T_e5560_row12_col1\" class=\"data row12 col1\" >203.000000</td>\n",
       "    </tr>\n",
       "    <tr>\n",
       "      <th id=\"T_e5560_level0_row13\" class=\"row_heading level0 row13\" >Physical-Weight</th>\n",
       "      <td id=\"T_e5560_row13_col0\" class=\"data row13 col0\" >0.000000</td>\n",
       "      <td id=\"T_e5560_row13_col1\" class=\"data row13 col1\" >315.000000</td>\n",
       "    </tr>\n",
       "    <tr>\n",
       "      <th id=\"T_e5560_level0_row14\" class=\"row_heading level0 row14\" >PreInt_EduHx-computerinternet_hoursday</th>\n",
       "      <td id=\"T_e5560_row14_col0\" class=\"data row14 col0\" >0.000000</td>\n",
       "      <td id=\"T_e5560_row14_col1\" class=\"data row14 col1\" >3.000000</td>\n",
       "    </tr>\n",
       "    <tr>\n",
       "      <th id=\"T_e5560_level0_row15\" class=\"row_heading level0 row15\" >SDS-SDS_Total_T</th>\n",
       "      <td id=\"T_e5560_row15_col0\" class=\"data row15 col0\" >38.000000</td>\n",
       "      <td id=\"T_e5560_row15_col1\" class=\"data row15 col1\" >100.000000</td>\n",
       "    </tr>\n",
       "  </tbody>\n",
       "</table>\n"
      ],
      "text/plain": [
       "<pandas.io.formats.style.Styler at 0x7fd38229f010>"
      ]
     },
     "execution_count": 21,
     "metadata": {},
     "output_type": "execute_result"
    }
   ],
   "source": [
    "describe = train[selection].describe().T\n",
    "describe = describe[['min','max']].sort_index()\n",
    "describe.style.background_gradient(cmap='YlOrRd')"
   ]
  },
  {
   "cell_type": "code",
   "execution_count": 22,
   "id": "8c8240b4",
   "metadata": {
    "execution": {
     "iopub.execute_input": "2024-12-08T20:24:34.067666Z",
     "iopub.status.busy": "2024-12-08T20:24:34.067255Z",
     "iopub.status.idle": "2024-12-08T20:24:38.612583Z",
     "shell.execute_reply": "2024-12-08T20:24:38.611376Z"
    },
    "papermill": {
     "duration": 4.564867,
     "end_time": "2024-12-08T20:24:38.615755",
     "exception": false,
     "start_time": "2024-12-08T20:24:34.050888",
     "status": "completed"
    },
    "tags": []
   },
   "outputs": [
    {
     "data": {
      "image/png": "[encoded data removed]",
      "text/plain": [
       "<Figure size 1000x1000 with 16 Axes>"
      ]
     },
     "metadata": {},
     "output_type": "display_data"
    }
   ],
   "source": [
    "train[selection].hist(figsize=(10,10), grid = True, color = 'blue')\n",
    "plt.tight_layout()"
   ]
  },
  {
   "cell_type": "markdown",
   "id": "5ab2402d",
   "metadata": {
    "papermill": {
     "duration": 0.015332,
     "end_time": "2024-12-08T20:24:38.647797",
     "exception": false,
     "start_time": "2024-12-08T20:24:38.632465",
     "status": "completed"
    },
    "tags": []
   },
   "source": [
    "# <p style=\"padding:15px; background-color:blue; font-family:arial; font-weight:bold; color:white; font-size:100%; letter-spacing: 2px; text-align:left; border-radius: 10px 10px\">10/ Classification Model</p>"
   ]
  },
  {
   "cell_type": "markdown",
   "id": "ab22cd86",
   "metadata": {
    "execution": {
     "iopub.execute_input": "2024-10-01T11:23:08.559238Z",
     "iopub.status.busy": "2024-10-01T11:23:08.558733Z",
     "iopub.status.idle": "2024-10-01T11:23:08.568315Z",
     "shell.execute_reply": "2024-10-01T11:23:08.566315Z",
     "shell.execute_reply.started": "2024-10-01T11:23:08.559196Z"
    },
    "papermill": {
     "duration": 0.015395,
     "end_time": "2024-12-08T20:24:38.678771",
     "exception": false,
     "start_time": "2024-12-08T20:24:38.663376",
     "status": "completed"
    },
    "tags": []
   },
   "source": [
    " <div style=\"border-radius:12px;  border:2px solid blue; padding: 15px; background-color: #f6f5f5; font-size:120%; text-align:left\">\n",
    "\n",
    "* In this section I train an XGBoost classification model as a benchmark and use sii as the target.\n",
    "* The model was tuned offline using Optuna to get the hyperparameters.\n",
    "* This gives a CV score of **.375**. "
   ]
  },
  {
   "cell_type": "code",
   "execution_count": 23,
   "id": "6f9ed5b0",
   "metadata": {
    "execution": {
     "iopub.execute_input": "2024-12-08T20:24:38.711669Z",
     "iopub.status.busy": "2024-12-08T20:24:38.711296Z",
     "iopub.status.idle": "2024-12-08T20:24:38.718574Z",
     "shell.execute_reply": "2024-12-08T20:24:38.717441Z"
    },
    "papermill": {
     "duration": 0.026339,
     "end_time": "2024-12-08T20:24:38.720739",
     "exception": false,
     "start_time": "2024-12-08T20:24:38.694400",
     "status": "completed"
    },
    "tags": []
   },
   "outputs": [],
   "source": [
    "X = train[selection]\n",
    "test = test[selection]\n",
    "y = train.sii"
   ]
  },
  {
   "cell_type": "code",
   "execution_count": 24,
   "id": "8bfff3c2",
   "metadata": {
    "execution": {
     "iopub.execute_input": "2024-12-08T20:24:38.754187Z",
     "iopub.status.busy": "2024-12-08T20:24:38.753792Z",
     "iopub.status.idle": "2024-12-08T20:24:38.759231Z",
     "shell.execute_reply": "2024-12-08T20:24:38.757963Z"
    },
    "papermill": {
     "duration": 0.024628,
     "end_time": "2024-12-08T20:24:38.761522",
     "exception": false,
     "start_time": "2024-12-08T20:24:38.736894",
     "status": "completed"
    },
    "tags": []
   },
   "outputs": [],
   "source": [
    "def quadratic_kappa(y_true, y_pred):\n",
    "    return cohen_kappa_score(y_true, y_pred, weights='quadratic')\n",
    "kappa_scorer = make_scorer(quadratic_kappa)"
   ]
  },
  {
   "cell_type": "code",
   "execution_count": 25,
   "id": "60d63a7a",
   "metadata": {
    "execution": {
     "iopub.execute_input": "2024-12-08T20:24:38.795155Z",
     "iopub.status.busy": "2024-12-08T20:24:38.794776Z",
     "iopub.status.idle": "2024-12-08T20:24:38.801049Z",
     "shell.execute_reply": "2024-12-08T20:24:38.799229Z"
    },
    "papermill": {
     "duration": 0.026393,
     "end_time": "2024-12-08T20:24:38.803698",
     "exception": false,
     "start_time": "2024-12-08T20:24:38.777305",
     "status": "completed"
    },
    "tags": []
   },
   "outputs": [],
   "source": [
    "params = {'max_depth': 3, 'n_estimators': 202, 'learning_rate': 0.07956777025142073, 'subsample': 0.8197358255094112, 'colsample_bytree': 0.645036755035947}\n",
    "skf = StratifiedKFold(n_splits=10)\n",
    "clf = xgb.XGBClassifier(**params)"
   ]
  },
  {
   "cell_type": "code",
   "execution_count": 26,
   "id": "4febc710",
   "metadata": {
    "execution": {
     "iopub.execute_input": "2024-12-08T20:24:38.838682Z",
     "iopub.status.busy": "2024-12-08T20:24:38.838309Z",
     "iopub.status.idle": "2024-12-08T20:24:43.623839Z",
     "shell.execute_reply": "2024-12-08T20:24:43.622608Z"
    },
    "papermill": {
     "duration": 4.806329,
     "end_time": "2024-12-08T20:24:43.626397",
     "exception": false,
     "start_time": "2024-12-08T20:24:38.820068",
     "status": "completed"
    },
    "tags": []
   },
   "outputs": [
    {
     "name": "stdout",
     "output_type": "stream",
     "text": [
      "QWK Scores: [0.32619388 0.27592491 0.38283353 0.3599578  0.41978348 0.35794381\n",
      " 0.39883915 0.4625643  0.35390107 0.41028082]\n",
      "Mean QWK Score: 0.3748222749214758\n"
     ]
    }
   ],
   "source": [
    "scores = cross_val_score(clf, X, y, cv=skf, scoring=kappa_scorer)\n",
    "print(\"QWK Scores:\", scores)\n",
    "print(\"Mean QWK Score:\", np.mean(scores))"
   ]
  },
  {
   "cell_type": "code",
   "execution_count": 27,
   "id": "451b548a",
   "metadata": {
    "execution": {
     "iopub.execute_input": "2024-12-08T20:24:43.662856Z",
     "iopub.status.busy": "2024-12-08T20:24:43.662476Z",
     "iopub.status.idle": "2024-12-08T20:24:44.140249Z",
     "shell.execute_reply": "2024-12-08T20:24:44.139183Z"
    },
    "papermill": {
     "duration": 0.499119,
     "end_time": "2024-12-08T20:24:44.142656",
     "exception": false,
     "start_time": "2024-12-08T20:24:43.643537",
     "status": "completed"
    },
    "tags": []
   },
   "outputs": [
    {
     "data": {
      "text/plain": [
       "Basic_Demos-Age                           0.148123\n",
       "PreInt_EduHx-computerinternet_hoursday    0.125450\n",
       "SDS-SDS_Total_T                           0.074476\n",
       "Physical-Height                           0.069606\n",
       "Physical-Weight                           0.063608\n",
       "PAQ_C-Season                              0.053065\n",
       "BIA-BIA_FFMI                              0.052457\n",
       "FGC-FGC_PU                                0.050733\n",
       "FGC-FGC_CU                                0.050628\n",
       "FGC-FGC_TL                                0.049608\n",
       "BIA-BIA_BMI                               0.048210\n",
       "FGC-FGC_SRL_Zone                          0.046841\n",
       "Physical-Systolic_BP                      0.045093\n",
       "FGC-FGC_SRR_Zone                          0.043120\n",
       "PAQ_A-Season                              0.040319\n",
       "BIA-BIA_Frame_num                         0.038663\n",
       "dtype: float32"
      ]
     },
     "execution_count": 27,
     "metadata": {},
     "output_type": "execute_result"
    }
   ],
   "source": [
    "clf.fit(X,y)\n",
    "feature_imp = pd.Series(clf.feature_importances_,index=X.columns).sort_values(ascending=False)\n",
    "feature_imp"
   ]
  },
  {
   "cell_type": "code",
   "execution_count": 28,
   "id": "ee61ac62",
   "metadata": {
    "execution": {
     "iopub.execute_input": "2024-12-08T20:24:44.177115Z",
     "iopub.status.busy": "2024-12-08T20:24:44.176682Z",
     "iopub.status.idle": "2024-12-08T20:24:44.607877Z",
     "shell.execute_reply": "2024-12-08T20:24:44.606592Z"
    },
    "papermill": {
     "duration": 0.451335,
     "end_time": "2024-12-08T20:24:44.610394",
     "exception": false,
     "start_time": "2024-12-08T20:24:44.159059",
     "status": "completed"
    },
    "tags": []
   },
   "outputs": [
    {
     "data": {
      "image/png": "[encoded data removed]",
      "text/plain": [
       "<Figure size 640x480 with 1 Axes>"
      ]
     },
     "metadata": {},
     "output_type": "display_data"
    }
   ],
   "source": [
    "sns.barplot(x=feature_imp, y=feature_imp.index)\n",
    "plt.xlabel('Feature Importance Score')\n",
    "plt.title(\"Feature Importances\")\n",
    "plt.show()"
   ]
  },
  {
   "cell_type": "code",
   "execution_count": 29,
   "id": "c2aeeee0",
   "metadata": {
    "execution": {
     "iopub.execute_input": "2024-12-08T20:24:44.645910Z",
     "iopub.status.busy": "2024-12-08T20:24:44.645547Z",
     "iopub.status.idle": "2024-12-08T20:24:46.338629Z",
     "shell.execute_reply": "2024-12-08T20:24:46.337153Z"
    },
    "papermill": {
     "duration": 1.714185,
     "end_time": "2024-12-08T20:24:46.341741",
     "exception": false,
     "start_time": "2024-12-08T20:24:44.627556",
     "status": "completed"
    },
    "tags": []
   },
   "outputs": [
    {
     "data": {
      "text/html": [
       "\n",
       "    <style>\n",
       "    table.eli5-weights tr:hover {\n",
       "        filter: brightness(85%);\n",
       "    }\n",
       "</style>\n",
       "\n",
       "\n",
       "\n",
       "    \n",
       "\n",
       "    \n",
       "\n",
       "    \n",
       "\n",
       "    \n",
       "\n",
       "    \n",
       "\n",
       "    \n",
       "\n",
       "\n",
       "    \n",
       "\n",
       "    \n",
       "\n",
       "    \n",
       "\n",
       "    \n",
       "\n",
       "    \n",
       "\n",
       "    \n",
       "\n",
       "\n",
       "    \n",
       "\n",
       "    \n",
       "\n",
       "    \n",
       "\n",
       "    \n",
       "\n",
       "    \n",
       "        <table class=\"eli5-weights eli5-feature-importances\" style=\"border-collapse: collapse; border: none; margin-top: 0em; table-layout: auto;\">\n",
       "    <thead>\n",
       "    <tr style=\"border: none;\">\n",
       "        <th style=\"padding: 0 1em 0 0.5em; text-align: right; border: none;\">Weight</th>\n",
       "        <th style=\"padding: 0 0.5em 0 0.5em; text-align: left; border: none;\">Feature</th>\n",
       "    </tr>\n",
       "    </thead>\n",
       "    <tbody>\n",
       "    \n",
       "        <tr style=\"background-color: hsl(120, 100.00%, 80.00%); border: none;\">\n",
       "            <td style=\"padding: 0 1em 0 0.5em; text-align: right; border: none;\">\n",
       "                0.0752\n",
       "                \n",
       "                    &plusmn; 0.0095\n",
       "                \n",
       "            </td>\n",
       "            <td style=\"padding: 0 0.5em 0 0.5em; text-align: left; border: none;\">\n",
       "                SDS-SDS_Total_T\n",
       "            </td>\n",
       "        </tr>\n",
       "    \n",
       "        <tr style=\"background-color: hsl(120, 100.00%, 83.16%); border: none;\">\n",
       "            <td style=\"padding: 0 1em 0 0.5em; text-align: right; border: none;\">\n",
       "                0.0588\n",
       "                \n",
       "                    &plusmn; 0.0074\n",
       "                \n",
       "            </td>\n",
       "            <td style=\"padding: 0 0.5em 0 0.5em; text-align: left; border: none;\">\n",
       "                PreInt_EduHx-computerinternet_hoursday\n",
       "            </td>\n",
       "        </tr>\n",
       "    \n",
       "        <tr style=\"background-color: hsl(120, 100.00%, 85.69%); border: none;\">\n",
       "            <td style=\"padding: 0 1em 0 0.5em; text-align: right; border: none;\">\n",
       "                0.0466\n",
       "                \n",
       "                    &plusmn; 0.0102\n",
       "                \n",
       "            </td>\n",
       "            <td style=\"padding: 0 0.5em 0 0.5em; text-align: left; border: none;\">\n",
       "                Basic_Demos-Age\n",
       "            </td>\n",
       "        </tr>\n",
       "    \n",
       "        <tr style=\"background-color: hsl(120, 100.00%, 86.95%); border: none;\">\n",
       "            <td style=\"padding: 0 1em 0 0.5em; text-align: right; border: none;\">\n",
       "                0.0409\n",
       "                \n",
       "                    &plusmn; 0.0067\n",
       "                \n",
       "            </td>\n",
       "            <td style=\"padding: 0 0.5em 0 0.5em; text-align: left; border: none;\">\n",
       "                BIA-BIA_FFMI\n",
       "            </td>\n",
       "        </tr>\n",
       "    \n",
       "        <tr style=\"background-color: hsl(120, 100.00%, 87.48%); border: none;\">\n",
       "            <td style=\"padding: 0 1em 0 0.5em; text-align: right; border: none;\">\n",
       "                0.0385\n",
       "                \n",
       "                    &plusmn; 0.0051\n",
       "                \n",
       "            </td>\n",
       "            <td style=\"padding: 0 0.5em 0 0.5em; text-align: left; border: none;\">\n",
       "                Physical-Height\n",
       "            </td>\n",
       "        </tr>\n",
       "    \n",
       "        <tr style=\"background-color: hsl(120, 100.00%, 88.53%); border: none;\">\n",
       "            <td style=\"padding: 0 1em 0 0.5em; text-align: right; border: none;\">\n",
       "                0.0340\n",
       "                \n",
       "                    &plusmn; 0.0058\n",
       "                \n",
       "            </td>\n",
       "            <td style=\"padding: 0 0.5em 0 0.5em; text-align: left; border: none;\">\n",
       "                FGC-FGC_CU\n",
       "            </td>\n",
       "        </tr>\n",
       "    \n",
       "        <tr style=\"background-color: hsl(120, 100.00%, 89.07%); border: none;\">\n",
       "            <td style=\"padding: 0 1em 0 0.5em; text-align: right; border: none;\">\n",
       "                0.0317\n",
       "                \n",
       "                    &plusmn; 0.0070\n",
       "                \n",
       "            </td>\n",
       "            <td style=\"padding: 0 0.5em 0 0.5em; text-align: left; border: none;\">\n",
       "                BIA-BIA_BMI\n",
       "            </td>\n",
       "        </tr>\n",
       "    \n",
       "        <tr style=\"background-color: hsl(120, 100.00%, 89.64%); border: none;\">\n",
       "            <td style=\"padding: 0 1em 0 0.5em; text-align: right; border: none;\">\n",
       "                0.0294\n",
       "                \n",
       "                    &plusmn; 0.0059\n",
       "                \n",
       "            </td>\n",
       "            <td style=\"padding: 0 0.5em 0 0.5em; text-align: left; border: none;\">\n",
       "                Physical-Weight\n",
       "            </td>\n",
       "        </tr>\n",
       "    \n",
       "        <tr style=\"background-color: hsl(120, 100.00%, 89.68%); border: none;\">\n",
       "            <td style=\"padding: 0 1em 0 0.5em; text-align: right; border: none;\">\n",
       "                0.0292\n",
       "                \n",
       "                    &plusmn; 0.0060\n",
       "                \n",
       "            </td>\n",
       "            <td style=\"padding: 0 0.5em 0 0.5em; text-align: left; border: none;\">\n",
       "                Physical-Systolic_BP\n",
       "            </td>\n",
       "        </tr>\n",
       "    \n",
       "        <tr style=\"background-color: hsl(120, 100.00%, 91.46%); border: none;\">\n",
       "            <td style=\"padding: 0 1em 0 0.5em; text-align: right; border: none;\">\n",
       "                0.0223\n",
       "                \n",
       "                    &plusmn; 0.0032\n",
       "                \n",
       "            </td>\n",
       "            <td style=\"padding: 0 0.5em 0 0.5em; text-align: left; border: none;\">\n",
       "                FGC-FGC_PU\n",
       "            </td>\n",
       "        </tr>\n",
       "    \n",
       "        <tr style=\"background-color: hsl(120, 100.00%, 93.10%); border: none;\">\n",
       "            <td style=\"padding: 0 1em 0 0.5em; text-align: right; border: none;\">\n",
       "                0.0164\n",
       "                \n",
       "                    &plusmn; 0.0032\n",
       "                \n",
       "            </td>\n",
       "            <td style=\"padding: 0 0.5em 0 0.5em; text-align: left; border: none;\">\n",
       "                PAQ_C-Season\n",
       "            </td>\n",
       "        </tr>\n",
       "    \n",
       "        <tr style=\"background-color: hsl(120, 100.00%, 93.12%); border: none;\">\n",
       "            <td style=\"padding: 0 1em 0 0.5em; text-align: right; border: none;\">\n",
       "                0.0164\n",
       "                \n",
       "                    &plusmn; 0.0042\n",
       "                \n",
       "            </td>\n",
       "            <td style=\"padding: 0 0.5em 0 0.5em; text-align: left; border: none;\">\n",
       "                FGC-FGC_TL\n",
       "            </td>\n",
       "        </tr>\n",
       "    \n",
       "        <tr style=\"background-color: hsl(120, 100.00%, 96.03%); border: none;\">\n",
       "            <td style=\"padding: 0 1em 0 0.5em; text-align: right; border: none;\">\n",
       "                0.0075\n",
       "                \n",
       "                    &plusmn; 0.0029\n",
       "                \n",
       "            </td>\n",
       "            <td style=\"padding: 0 0.5em 0 0.5em; text-align: left; border: none;\">\n",
       "                FGC-FGC_SRR_Zone\n",
       "            </td>\n",
       "        </tr>\n",
       "    \n",
       "        <tr style=\"background-color: hsl(120, 100.00%, 96.45%); border: none;\">\n",
       "            <td style=\"padding: 0 1em 0 0.5em; text-align: right; border: none;\">\n",
       "                0.0064\n",
       "                \n",
       "                    &plusmn; 0.0028\n",
       "                \n",
       "            </td>\n",
       "            <td style=\"padding: 0 0.5em 0 0.5em; text-align: left; border: none;\">\n",
       "                PAQ_A-Season\n",
       "            </td>\n",
       "        </tr>\n",
       "    \n",
       "        <tr style=\"background-color: hsl(120, 100.00%, 96.77%); border: none;\">\n",
       "            <td style=\"padding: 0 1em 0 0.5em; text-align: right; border: none;\">\n",
       "                0.0056\n",
       "                \n",
       "                    &plusmn; 0.0034\n",
       "                \n",
       "            </td>\n",
       "            <td style=\"padding: 0 0.5em 0 0.5em; text-align: left; border: none;\">\n",
       "                FGC-FGC_SRL_Zone\n",
       "            </td>\n",
       "        </tr>\n",
       "    \n",
       "        <tr style=\"background-color: hsl(120, 100.00%, 98.01%); border: none;\">\n",
       "            <td style=\"padding: 0 1em 0 0.5em; text-align: right; border: none;\">\n",
       "                0.0028\n",
       "                \n",
       "                    &plusmn; 0.0046\n",
       "                \n",
       "            </td>\n",
       "            <td style=\"padding: 0 0.5em 0 0.5em; text-align: left; border: none;\">\n",
       "                BIA-BIA_Frame_num\n",
       "            </td>\n",
       "        </tr>\n",
       "    \n",
       "    \n",
       "    </tbody>\n",
       "</table>\n",
       "    \n",
       "\n",
       "    \n",
       "\n",
       "\n",
       "    \n",
       "\n",
       "    \n",
       "\n",
       "    \n",
       "\n",
       "    \n",
       "\n",
       "    \n",
       "\n",
       "    \n",
       "\n",
       "\n",
       "\n"
      ],
      "text/plain": [
       "<IPython.core.display.HTML object>"
      ]
     },
     "execution_count": 29,
     "metadata": {},
     "output_type": "execute_result"
    }
   ],
   "source": [
    "perm = PermutationImportance(clf, random_state=1).fit(X,y)\n",
    "eli5.show_weights(perm, feature_names = X.columns.tolist())"
   ]
  },
  {
   "cell_type": "markdown",
   "id": "18456e25",
   "metadata": {
    "papermill": {
     "duration": 0.019452,
     "end_time": "2024-12-08T20:24:46.383290",
     "exception": false,
     "start_time": "2024-12-08T20:24:46.363838",
     "status": "completed"
    },
    "tags": []
   },
   "source": [
    "# <p style=\"padding:15px; background-color:blue; font-family:arial; font-weight:bold; color:white; font-size:100%; letter-spacing: 2px; text-align:left; border-radius: 10px 10px\">11/ Regression Model</p>"
   ]
  },
  {
   "cell_type": "markdown",
   "id": "427bd9d3",
   "metadata": {
    "execution": {
     "iopub.execute_input": "2024-10-01T12:35:10.605904Z",
     "iopub.status.busy": "2024-10-01T12:35:10.605389Z",
     "iopub.status.idle": "2024-10-01T12:35:10.613456Z",
     "shell.execute_reply": "2024-10-01T12:35:10.612056Z",
     "shell.execute_reply.started": "2024-10-01T12:35:10.605858Z"
    },
    "papermill": {
     "duration": 0.017538,
     "end_time": "2024-12-08T20:24:46.418319",
     "exception": false,
     "start_time": "2024-12-08T20:24:46.400781",
     "status": "completed"
    },
    "tags": []
   },
   "source": [
    " <div style=\"border-radius:12px;  border:2px solid blue; padding: 15px; background-color: #f6f5f5; font-size:120%; text-align:left\">\n",
    "\n",
    "* In this section I train an XGBoost regression model as a benchmark and use PCIAT-PCIAT_Total as the target.\n",
    "* We tweak the quadratic kappa function to convert PCIAT total scores to sii categories, which gives a better cross-validation result.\n",
    "* The model was tuned offline using Optuna to get the hyperparameters.\n",
    "* I found that adding a scaling factor of 1.25 to the scores gives a better overall QWK score.\n",
    "* The effect of this is to reduce the score thresholds from 30, 50, 80 to 24, 40, 64. It's quite possible there are even better values to be found.\n",
    "* The final CV score is **.458**."
   ]
  },
  {
   "cell_type": "code",
   "execution_count": 30,
   "id": "5ea73d08",
   "metadata": {
    "execution": {
     "iopub.execute_input": "2024-12-08T20:24:46.462896Z",
     "iopub.status.busy": "2024-12-08T20:24:46.461394Z",
     "iopub.status.idle": "2024-12-08T20:24:46.470210Z",
     "shell.execute_reply": "2024-12-08T20:24:46.469050Z"
    },
    "papermill": {
     "duration": 0.033588,
     "end_time": "2024-12-08T20:24:46.472882",
     "exception": false,
     "start_time": "2024-12-08T20:24:46.439294",
     "status": "completed"
    },
    "tags": []
   },
   "outputs": [],
   "source": [
    "X = train[selection]\n",
    "test = test[selection]\n",
    "y = train['PCIAT-PCIAT_Total']"
   ]
  },
  {
   "cell_type": "code",
   "execution_count": 31,
   "id": "515ce5c2",
   "metadata": {
    "execution": {
     "iopub.execute_input": "2024-12-08T20:24:46.513001Z",
     "iopub.status.busy": "2024-12-08T20:24:46.511772Z",
     "iopub.status.idle": "2024-12-08T20:24:46.523893Z",
     "shell.execute_reply": "2024-12-08T20:24:46.522870Z"
    },
    "papermill": {
     "duration": 0.035191,
     "end_time": "2024-12-08T20:24:46.526648",
     "exception": false,
     "start_time": "2024-12-08T20:24:46.491457",
     "status": "completed"
    },
    "tags": []
   },
   "outputs": [],
   "source": [
    "def convert(scores):\n",
    "    scores = np.array(scores)*1.252\n",
    "    bins = np.zeros_like(scores)\n",
    "    bins[scores <= 30] = 0\n",
    "    bins[(scores > 30) & (scores < 50)] = 1\n",
    "    bins[(scores >= 50) & (scores < 80)] = 2\n",
    "    bins[scores >= 80] = 3\n",
    "    return bins"
   ]
  },
  {
   "cell_type": "code",
   "execution_count": 32,
   "id": "35acc0a4",
   "metadata": {
    "execution": {
     "iopub.execute_input": "2024-12-08T20:24:46.576834Z",
     "iopub.status.busy": "2024-12-08T20:24:46.575784Z",
     "iopub.status.idle": "2024-12-08T20:24:46.582058Z",
     "shell.execute_reply": "2024-12-08T20:24:46.580786Z"
    },
    "papermill": {
     "duration": 0.040083,
     "end_time": "2024-12-08T20:24:46.584930",
     "exception": false,
     "start_time": "2024-12-08T20:24:46.544847",
     "status": "completed"
    },
    "tags": []
   },
   "outputs": [],
   "source": [
    "def quadratic_kappa(y_true, y_pred):\n",
    "    y_true_cat = convert(y_true)\n",
    "    y_pred_cat = convert(y_pred)\n",
    "    return cohen_kappa_score(y_true_cat, y_pred_cat, weights='quadratic')\n",
    "\n",
    "kappa_scorer = make_scorer(quadratic_kappa, greater_is_better=True)"
   ]
  },
  {
   "cell_type": "code",
   "execution_count": 33,
   "id": "b89fbc98",
   "metadata": {
    "execution": {
     "iopub.execute_input": "2024-12-08T20:24:46.647466Z",
     "iopub.status.busy": "2024-12-08T20:24:46.646922Z",
     "iopub.status.idle": "2024-12-08T20:24:46.653384Z",
     "shell.execute_reply": "2024-12-08T20:24:46.652302Z"
    },
    "papermill": {
     "duration": 0.038712,
     "end_time": "2024-12-08T20:24:46.655577",
     "exception": false,
     "start_time": "2024-12-08T20:24:46.616865",
     "status": "completed"
    },
    "tags": []
   },
   "outputs": [],
   "source": [
    "params = {'max_depth': 5, 'n_estimators': 59, 'learning_rate': 0.05327652118259573, 'subsample': 0.5968194045365575, 'colsample_bytree': 0.9123669348125403}"
   ]
  },
  {
   "cell_type": "code",
   "execution_count": 34,
   "id": "c7d01e58",
   "metadata": {
    "execution": {
     "iopub.execute_input": "2024-12-08T20:24:46.691536Z",
     "iopub.status.busy": "2024-12-08T20:24:46.691159Z",
     "iopub.status.idle": "2024-12-08T20:24:46.698133Z",
     "shell.execute_reply": "2024-12-08T20:24:46.696916Z"
    },
    "papermill": {
     "duration": 0.032669,
     "end_time": "2024-12-08T20:24:46.705490",
     "exception": false,
     "start_time": "2024-12-08T20:24:46.672821",
     "status": "completed"
    },
    "tags": []
   },
   "outputs": [],
   "source": [
    "model = xgb.XGBRegressor(**params)"
   ]
  },
  {
   "cell_type": "code",
   "execution_count": 35,
   "id": "dadb64f7",
   "metadata": {
    "execution": {
     "iopub.execute_input": "2024-12-08T20:24:46.750232Z",
     "iopub.status.busy": "2024-12-08T20:24:46.749650Z",
     "iopub.status.idle": "2024-12-08T20:24:49.023719Z",
     "shell.execute_reply": "2024-12-08T20:24:49.022926Z"
    },
    "papermill": {
     "duration": 2.2954,
     "end_time": "2024-12-08T20:24:49.026210",
     "exception": false,
     "start_time": "2024-12-08T20:24:46.730810",
     "status": "completed"
    },
    "tags": []
   },
   "outputs": [
    {
     "name": "stdout",
     "output_type": "stream",
     "text": [
      "QWK Scores: [0.41655367 0.47796776 0.5274297  0.44473769 0.50479087 0.43708009\n",
      " 0.48428645 0.36413438 0.43446328 0.39807249]\n",
      "Mean QWK Score: 0.44895163676089106\n"
     ]
    }
   ],
   "source": [
    "scores = cross_val_score(model, X, y, cv=skf, scoring=kappa_scorer)\n",
    "print(\"QWK Scores:\", scores)\n",
    "print(\"Mean QWK Score:\", np.mean(scores))"
   ]
  },
  {
   "cell_type": "code",
   "execution_count": 36,
   "id": "0e5ffb40",
   "metadata": {
    "execution": {
     "iopub.execute_input": "2024-12-08T20:24:49.064892Z",
     "iopub.status.busy": "2024-12-08T20:24:49.063758Z",
     "iopub.status.idle": "2024-12-08T20:24:49.171438Z",
     "shell.execute_reply": "2024-12-08T20:24:49.170303Z"
    },
    "papermill": {
     "duration": 0.129393,
     "end_time": "2024-12-08T20:24:49.173463",
     "exception": false,
     "start_time": "2024-12-08T20:24:49.044070",
     "status": "completed"
    },
    "tags": []
   },
   "outputs": [
    {
     "data": {
      "text/plain": [
       "Basic_Demos-Age                           0.246876\n",
       "PreInt_EduHx-computerinternet_hoursday    0.120340\n",
       "SDS-SDS_Total_T                           0.072446\n",
       "Physical-Height                           0.052154\n",
       "BIA-BIA_Frame_num                         0.050988\n",
       "FGC-FGC_SRL_Zone                          0.048969\n",
       "PAQ_C-Season                              0.046817\n",
       "FGC-FGC_PU                                0.046036\n",
       "FGC-FGC_CU                                0.045058\n",
       "Physical-Weight                           0.043762\n",
       "PAQ_A-Season                              0.040489\n",
       "BIA-BIA_FFMI                              0.040033\n",
       "Physical-Systolic_BP                      0.039868\n",
       "FGC-FGC_TL                                0.037739\n",
       "BIA-BIA_BMI                               0.036193\n",
       "FGC-FGC_SRR_Zone                          0.032231\n",
       "dtype: float32"
      ]
     },
     "execution_count": 36,
     "metadata": {},
     "output_type": "execute_result"
    }
   ],
   "source": [
    "model.fit(X,y)\n",
    "feature_imp = pd.Series(model.feature_importances_,index=X.columns).sort_values(ascending=False)\n",
    "feature_imp"
   ]
  },
  {
   "cell_type": "code",
   "execution_count": 37,
   "id": "2846e652",
   "metadata": {
    "execution": {
     "iopub.execute_input": "2024-12-08T20:24:49.210634Z",
     "iopub.status.busy": "2024-12-08T20:24:49.210271Z",
     "iopub.status.idle": "2024-12-08T20:24:49.615365Z",
     "shell.execute_reply": "2024-12-08T20:24:49.614194Z"
    },
    "papermill": {
     "duration": 0.426374,
     "end_time": "2024-12-08T20:24:49.617505",
     "exception": false,
     "start_time": "2024-12-08T20:24:49.191131",
     "status": "completed"
    },
    "tags": []
   },
   "outputs": [
    {
     "data": {
      "image/png": "[encoded data removed]",
      "text/plain": [
       "<Figure size 640x480 with 1 Axes>"
      ]
     },
     "metadata": {},
     "output_type": "display_data"
    }
   ],
   "source": [
    "sns.barplot(x=feature_imp, y=feature_imp.index)\n",
    "plt.xlabel('Feature Importance Score')\n",
    "plt.title(\"Feature Importances\")\n",
    "plt.show()"
   ]
  },
  {
   "cell_type": "code",
   "execution_count": 38,
   "id": "727e3192",
   "metadata": {
    "execution": {
     "iopub.execute_input": "2024-12-08T20:24:49.656295Z",
     "iopub.status.busy": "2024-12-08T20:24:49.655825Z",
     "iopub.status.idle": "2024-12-08T20:24:50.165530Z",
     "shell.execute_reply": "2024-12-08T20:24:50.164475Z"
    },
    "papermill": {
     "duration": 0.531918,
     "end_time": "2024-12-08T20:24:50.167758",
     "exception": false,
     "start_time": "2024-12-08T20:24:49.635840",
     "status": "completed"
    },
    "tags": []
   },
   "outputs": [
    {
     "data": {
      "text/html": [
       "\n",
       "    <style>\n",
       "    table.eli5-weights tr:hover {\n",
       "        filter: brightness(85%);\n",
       "    }\n",
       "</style>\n",
       "\n",
       "\n",
       "\n",
       "    \n",
       "\n",
       "    \n",
       "\n",
       "    \n",
       "\n",
       "    \n",
       "\n",
       "    \n",
       "\n",
       "    \n",
       "\n",
       "\n",
       "    \n",
       "\n",
       "    \n",
       "\n",
       "    \n",
       "\n",
       "    \n",
       "\n",
       "    \n",
       "\n",
       "    \n",
       "\n",
       "\n",
       "    \n",
       "\n",
       "    \n",
       "\n",
       "    \n",
       "\n",
       "    \n",
       "\n",
       "    \n",
       "        <table class=\"eli5-weights eli5-feature-importances\" style=\"border-collapse: collapse; border: none; margin-top: 0em; table-layout: auto;\">\n",
       "    <thead>\n",
       "    <tr style=\"border: none;\">\n",
       "        <th style=\"padding: 0 1em 0 0.5em; text-align: right; border: none;\">Weight</th>\n",
       "        <th style=\"padding: 0 0.5em 0 0.5em; text-align: left; border: none;\">Feature</th>\n",
       "    </tr>\n",
       "    </thead>\n",
       "    <tbody>\n",
       "    \n",
       "        <tr style=\"background-color: hsl(120, 100.00%, 80.00%); border: none;\">\n",
       "            <td style=\"padding: 0 1em 0 0.5em; text-align: right; border: none;\">\n",
       "                0.1582\n",
       "                \n",
       "                    &plusmn; 0.0107\n",
       "                \n",
       "            </td>\n",
       "            <td style=\"padding: 0 0.5em 0 0.5em; text-align: left; border: none;\">\n",
       "                PreInt_EduHx-computerinternet_hoursday\n",
       "            </td>\n",
       "        </tr>\n",
       "    \n",
       "        <tr style=\"background-color: hsl(120, 100.00%, 80.45%); border: none;\">\n",
       "            <td style=\"padding: 0 1em 0 0.5em; text-align: right; border: none;\">\n",
       "                0.1531\n",
       "                \n",
       "                    &plusmn; 0.0116\n",
       "                \n",
       "            </td>\n",
       "            <td style=\"padding: 0 0.5em 0 0.5em; text-align: left; border: none;\">\n",
       "                SDS-SDS_Total_T\n",
       "            </td>\n",
       "        </tr>\n",
       "    \n",
       "        <tr style=\"background-color: hsl(120, 100.00%, 82.08%); border: none;\">\n",
       "            <td style=\"padding: 0 1em 0 0.5em; text-align: right; border: none;\">\n",
       "                0.1352\n",
       "                \n",
       "                    &plusmn; 0.0082\n",
       "                \n",
       "            </td>\n",
       "            <td style=\"padding: 0 0.5em 0 0.5em; text-align: left; border: none;\">\n",
       "                Basic_Demos-Age\n",
       "            </td>\n",
       "        </tr>\n",
       "    \n",
       "        <tr style=\"background-color: hsl(120, 100.00%, 89.66%); border: none;\">\n",
       "            <td style=\"padding: 0 1em 0 0.5em; text-align: right; border: none;\">\n",
       "                0.0616\n",
       "                \n",
       "                    &plusmn; 0.0045\n",
       "                \n",
       "            </td>\n",
       "            <td style=\"padding: 0 0.5em 0 0.5em; text-align: left; border: none;\">\n",
       "                Physical-Height\n",
       "            </td>\n",
       "        </tr>\n",
       "    \n",
       "        <tr style=\"background-color: hsl(120, 100.00%, 91.12%); border: none;\">\n",
       "            <td style=\"padding: 0 1em 0 0.5em; text-align: right; border: none;\">\n",
       "                0.0496\n",
       "                \n",
       "                    &plusmn; 0.0034\n",
       "                \n",
       "            </td>\n",
       "            <td style=\"padding: 0 0.5em 0 0.5em; text-align: left; border: none;\">\n",
       "                Physical-Weight\n",
       "            </td>\n",
       "        </tr>\n",
       "    \n",
       "        <tr style=\"background-color: hsl(120, 100.00%, 92.16%); border: none;\">\n",
       "            <td style=\"padding: 0 1em 0 0.5em; text-align: right; border: none;\">\n",
       "                0.0415\n",
       "                \n",
       "                    &plusmn; 0.0060\n",
       "                \n",
       "            </td>\n",
       "            <td style=\"padding: 0 0.5em 0 0.5em; text-align: left; border: none;\">\n",
       "                FGC-FGC_CU\n",
       "            </td>\n",
       "        </tr>\n",
       "    \n",
       "        <tr style=\"background-color: hsl(120, 100.00%, 92.94%); border: none;\">\n",
       "            <td style=\"padding: 0 1em 0 0.5em; text-align: right; border: none;\">\n",
       "                0.0357\n",
       "                \n",
       "                    &plusmn; 0.0010\n",
       "                \n",
       "            </td>\n",
       "            <td style=\"padding: 0 0.5em 0 0.5em; text-align: left; border: none;\">\n",
       "                Physical-Systolic_BP\n",
       "            </td>\n",
       "        </tr>\n",
       "    \n",
       "        <tr style=\"background-color: hsl(120, 100.00%, 93.53%); border: none;\">\n",
       "            <td style=\"padding: 0 1em 0 0.5em; text-align: right; border: none;\">\n",
       "                0.0315\n",
       "                \n",
       "                    &plusmn; 0.0012\n",
       "                \n",
       "            </td>\n",
       "            <td style=\"padding: 0 0.5em 0 0.5em; text-align: left; border: none;\">\n",
       "                BIA-BIA_FFMI\n",
       "            </td>\n",
       "        </tr>\n",
       "    \n",
       "        <tr style=\"background-color: hsl(120, 100.00%, 93.84%); border: none;\">\n",
       "            <td style=\"padding: 0 1em 0 0.5em; text-align: right; border: none;\">\n",
       "                0.0294\n",
       "                \n",
       "                    &plusmn; 0.0020\n",
       "                \n",
       "            </td>\n",
       "            <td style=\"padding: 0 0.5em 0 0.5em; text-align: left; border: none;\">\n",
       "                FGC-FGC_PU\n",
       "            </td>\n",
       "        </tr>\n",
       "    \n",
       "        <tr style=\"background-color: hsl(120, 100.00%, 95.35%); border: none;\">\n",
       "            <td style=\"padding: 0 1em 0 0.5em; text-align: right; border: none;\">\n",
       "                0.0197\n",
       "                \n",
       "                    &plusmn; 0.0021\n",
       "                \n",
       "            </td>\n",
       "            <td style=\"padding: 0 0.5em 0 0.5em; text-align: left; border: none;\">\n",
       "                BIA-BIA_BMI\n",
       "            </td>\n",
       "        </tr>\n",
       "    \n",
       "        <tr style=\"background-color: hsl(120, 100.00%, 95.46%); border: none;\">\n",
       "            <td style=\"padding: 0 1em 0 0.5em; text-align: right; border: none;\">\n",
       "                0.0190\n",
       "                \n",
       "                    &plusmn; 0.0013\n",
       "                \n",
       "            </td>\n",
       "            <td style=\"padding: 0 0.5em 0 0.5em; text-align: left; border: none;\">\n",
       "                FGC-FGC_TL\n",
       "            </td>\n",
       "        </tr>\n",
       "    \n",
       "        <tr style=\"background-color: hsl(120, 100.00%, 96.03%); border: none;\">\n",
       "            <td style=\"padding: 0 1em 0 0.5em; text-align: right; border: none;\">\n",
       "                0.0157\n",
       "                \n",
       "                    &plusmn; 0.0026\n",
       "                \n",
       "            </td>\n",
       "            <td style=\"padding: 0 0.5em 0 0.5em; text-align: left; border: none;\">\n",
       "                PAQ_C-Season\n",
       "            </td>\n",
       "        </tr>\n",
       "    \n",
       "        <tr style=\"background-color: hsl(120, 100.00%, 97.25%); border: none;\">\n",
       "            <td style=\"padding: 0 1em 0 0.5em; text-align: right; border: none;\">\n",
       "                0.0093\n",
       "                \n",
       "                    &plusmn; 0.0011\n",
       "                \n",
       "            </td>\n",
       "            <td style=\"padding: 0 0.5em 0 0.5em; text-align: left; border: none;\">\n",
       "                FGC-FGC_SRL_Zone\n",
       "            </td>\n",
       "        </tr>\n",
       "    \n",
       "        <tr style=\"background-color: hsl(120, 100.00%, 97.71%); border: none;\">\n",
       "            <td style=\"padding: 0 1em 0 0.5em; text-align: right; border: none;\">\n",
       "                0.0072\n",
       "                \n",
       "                    &plusmn; 0.0009\n",
       "                \n",
       "            </td>\n",
       "            <td style=\"padding: 0 0.5em 0 0.5em; text-align: left; border: none;\">\n",
       "                PAQ_A-Season\n",
       "            </td>\n",
       "        </tr>\n",
       "    \n",
       "        <tr style=\"background-color: hsl(120, 100.00%, 98.26%); border: none;\">\n",
       "            <td style=\"padding: 0 1em 0 0.5em; text-align: right; border: none;\">\n",
       "                0.0048\n",
       "                \n",
       "                    &plusmn; 0.0007\n",
       "                \n",
       "            </td>\n",
       "            <td style=\"padding: 0 0.5em 0 0.5em; text-align: left; border: none;\">\n",
       "                BIA-BIA_Frame_num\n",
       "            </td>\n",
       "        </tr>\n",
       "    \n",
       "        <tr style=\"background-color: hsl(120, 100.00%, 99.25%); border: none;\">\n",
       "            <td style=\"padding: 0 1em 0 0.5em; text-align: right; border: none;\">\n",
       "                0.0015\n",
       "                \n",
       "                    &plusmn; 0.0006\n",
       "                \n",
       "            </td>\n",
       "            <td style=\"padding: 0 0.5em 0 0.5em; text-align: left; border: none;\">\n",
       "                FGC-FGC_SRR_Zone\n",
       "            </td>\n",
       "        </tr>\n",
       "    \n",
       "    \n",
       "    </tbody>\n",
       "</table>\n",
       "    \n",
       "\n",
       "    \n",
       "\n",
       "\n",
       "    \n",
       "\n",
       "    \n",
       "\n",
       "    \n",
       "\n",
       "    \n",
       "\n",
       "    \n",
       "\n",
       "    \n",
       "\n",
       "\n",
       "\n"
      ],
      "text/plain": [
       "<IPython.core.display.HTML object>"
      ]
     },
     "execution_count": 38,
     "metadata": {},
     "output_type": "execute_result"
    }
   ],
   "source": [
    "perm = PermutationImportance(model, random_state=1).fit(X,y)\n",
    "eli5.show_weights(perm, feature_names = X.columns.tolist())"
   ]
  },
  {
   "cell_type": "markdown",
   "id": "98f733a2",
   "metadata": {
    "papermill": {
     "duration": 0.018958,
     "end_time": "2024-12-08T20:24:50.205222",
     "exception": false,
     "start_time": "2024-12-08T20:24:50.186264",
     "status": "completed"
    },
    "tags": []
   },
   "source": [
    "# <p style=\"padding:15px; background-color:blue; font-family:arial; font-weight:bold; color:white; font-size:100%; letter-spacing: 2px; text-align:left; border-radius: 10px 10px\">12/ Submission</p>"
   ]
  },
  {
   "cell_type": "code",
   "execution_count": 39,
   "id": "f86c1459",
   "metadata": {
    "execution": {
     "iopub.execute_input": "2024-12-08T20:24:50.245071Z",
     "iopub.status.busy": "2024-12-08T20:24:50.244294Z",
     "iopub.status.idle": "2024-12-08T20:24:50.355672Z",
     "shell.execute_reply": "2024-12-08T20:24:50.354866Z"
    },
    "papermill": {
     "duration": 0.133409,
     "end_time": "2024-12-08T20:24:50.357953",
     "exception": false,
     "start_time": "2024-12-08T20:24:50.224544",
     "status": "completed"
    },
    "tags": []
   },
   "outputs": [],
   "source": [
    "model.fit(X,y)\n",
    "preds = model.predict(test)\n",
    "preds = convert(preds) # convert raw scores to sii categories if using regressor\n",
    "preds = pd.Series(preds)\n",
    "preds.index = test.index\n",
    "preds.to_csv('submission.csv')"
   ]
  },
  {
   "cell_type": "markdown",
   "id": "27607de6",
   "metadata": {
    "papermill": {
     "duration": 0.018644,
     "end_time": "2024-12-08T20:24:50.394721",
     "exception": false,
     "start_time": "2024-12-08T20:24:50.376077",
     "status": "completed"
    },
    "tags": []
   },
   "source": [
    "# <p style=\"padding:15px; background-color:blue; font-family:arial; font-weight:bold; color:white; font-size:100%; letter-spacing: 2px; text-align:left; border-radius: 10px 10px\">13/ Conclusion</p>"
   ]
  },
  {
   "cell_type": "markdown",
   "id": "ab4ab3d0",
   "metadata": {
    "papermill": {
     "duration": 0.018186,
     "end_time": "2024-12-08T20:24:50.431256",
     "exception": false,
     "start_time": "2024-12-08T20:24:50.413070",
     "status": "completed"
    },
    "tags": []
   },
   "source": [
    " <div style=\"border-radius:12px;  border:2px solid blue; padding: 15px; background-color: #f6f5f5; font-size:120%; text-align:left\">\n",
    "    \n",
    "* This notebook has provided a general introduction to the competition with some EDA and feature selection.\n",
    "* We have created two models, a classifier model and a regression model, to demonstrate how the modelling process works.\n",
    "* The regression models gets a benchmark LB score of **.463**.\n",
    "* At the time of writing the very best LB scores demonstrate only **moderate** levels of agreement between predictive machine learning models and the test data.\n",
    "* PIU may well be linked to reduced levels of physical activity but these indicators do not necessarily demonstrate PIU.\n",
    "* Some key risk factors  appear to be the age of the child, the level of sleep disturbance experienced and - of course - hours per week of internet usage."
   ]
  },
  {
   "cell_type": "code",
   "execution_count": null,
   "id": "996141e4",
   "metadata": {
    "papermill": {
     "duration": 0.018158,
     "end_time": "2024-12-08T20:24:50.468916",
     "exception": false,
     "start_time": "2024-12-08T20:24:50.450758",
     "status": "completed"
    },
    "tags": []
   },
   "outputs": [],
   "source": []
  }
 ],
 "metadata": {
  "kaggle": {
   "accelerator": "none",
   "dataSources": [
    {
     "databundleVersionId": 9643020,
     "sourceId": 81933,
     "sourceType": "competition"
    }
   ],
   "dockerImageVersionId": 30786,
   "isGpuEnabled": false,
   "isInternetEnabled": false,
   "language": "python",
   "sourceType": "notebook"
  },
  "kernelspec": {
   "display_name": "Python 3",
   "language": "python",
   "name": "python3"
  },
  "language_info": {
   "codemirror_mode": {
    "name": "ipython",
    "version": 3
   },
   "file_extension": ".py",
   "mimetype": "text/x-python",
   "name": "python",
   "nbconvert_exporter": "python",
   "pygments_lexer": "ipython3",
   "version": "3.10.14"
  },
  "papermill": {
   "default_parameters": {},
   "duration": 44.556744,
   "end_time": "2024-12-08T20:24:53.047564",
   "environment_variables": {},
   "exception": null,
   "input_path": "__notebook__.ipynb",
   "output_path": "__notebook__.ipynb",
   "parameters": {},
   "start_time": "2024-12-08T20:24:08.490820",
   "version": "2.6.0"
  }
 },
 "nbformat": 4,
 "nbformat_minor": 5
}
