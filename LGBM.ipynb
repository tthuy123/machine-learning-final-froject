{
 "cells": [
  {
   "cell_type": "markdown",
   "id": "c7c1c7f6",
   "metadata": {
    "papermill": {
     "duration": 0.00625,
     "end_time": "2024-12-11T12:59:10.549206",
     "exception": false,
     "start_time": "2024-12-11T12:59:10.542956",
     "status": "completed"
    },
    "tags": []
   },
   "source": [
    "<p style=\"background-color:#33FFAA ; font-family:'Times New Romans'; color:#000000; font-size:200%; text-align:center; border: 3px solid #00EEEE; border-radius:10px; padding: 10px;\">Child Mind Institute | Single LightGBM Regressor</p>"
   ]
  },
  {
   "cell_type": "markdown",
   "id": "43a3c2b9",
   "metadata": {
    "papermill": {
     "duration": 0.005049,
     "end_time": "2024-12-11T12:59:10.559545",
     "exception": false,
     "start_time": "2024-12-11T12:59:10.554496",
     "status": "completed"
    },
    "tags": []
   },
   "source": [
    "### Predicting Severity Impairment Index (SII) using the MHN data.\n",
    "\n",
    "The aim of this [competition](http://www.kaggle.com/competitions/child-mind-institute-problematic-internet-use/data) is to predict the Severity Impairment Index (sii), a standard measure for the level of problematic internet use among children and adolescents, based on physical activity data and other features. \n",
    "\n",
    "The sii values are derived from `PCIAT-PCIAT_Total`, the sum of scores from the Parent-Child Internet Addiction Test (PCIAT: 20 questions, scored 0-5), which makes sii an ordinal categorical variable with four levels, where the order of categories is meaningful. It is defined as:\n",
    "- 0: None (PCIAT-PCIAT_Total from 0 to 30)\n",
    "- 1: Mild (PCIAT-PCIAT_Total from 31 to 49)\n",
    "- 2: Moderate (PCIAT-PCIAT_Total from 50 to 79)\n",
    "- 3: Severe (PCIAT-PCIAT_Total 80 and more) \n",
    "\n",
    "The test.csv file contains 20 test samples in the correct format to help for find the solutions. The full test set comprises about 3800 instances.\n",
    "\n",
    "Dataset is divided into two sources:\n",
    " * **parquet** files: containing the accelerometer (actigraphy) series,and\n",
    " * **csv** files containing the remaining tabular data.\n",
    "\n",
    "The majority of measures are missing for most participants. In particular, **the target sii is missing for a portion of the participants in the training set**. You may wish to apply non-supervised learning techniques to this data. The sii value is present for all instances in the test set.\n",
    "\n",
    "For more info about the data, read the data page of the challage [here](https://www.kaggle.com/competitions/child-mind-institute-problematic-internet-use/data)."
   ]
  },
  {
   "cell_type": "markdown",
   "id": "b073a595",
   "metadata": {
    "papermill": {
     "duration": 0.004639,
     "end_time": "2024-12-11T12:59:10.569102",
     "exception": false,
     "start_time": "2024-12-11T12:59:10.564463",
     "status": "completed"
    },
    "tags": []
   },
   "source": [
    "# Loading Libraries"
   ]
  },
  {
   "cell_type": "code",
   "execution_count": 1,
   "id": "0f3a0630",
   "metadata": {
    "_cell_guid": "b1076dfc-b9ad-4769-8c92-a6c4dae69d19",
    "_uuid": "8f2839f25d086af736a60e9eeb907d3b93b6e0e5",
    "execution": {
     "iopub.execute_input": "2024-12-11T12:59:10.580899Z",
     "iopub.status.busy": "2024-12-11T12:59:10.580505Z",
     "iopub.status.idle": "2024-12-11T12:59:15.808544Z",
     "shell.execute_reply": "2024-12-11T12:59:15.807167Z"
    },
    "papermill": {
     "duration": 5.23729,
     "end_time": "2024-12-11T12:59:15.811298",
     "exception": false,
     "start_time": "2024-12-11T12:59:10.574008",
     "status": "completed"
    },
    "tags": []
   },
   "outputs": [],
   "source": [
    "import os\n",
    "import numpy as np\n",
    "import pandas as pd\n",
    "\n",
    "from colorama import Fore, Style\n",
    "from IPython.display import clear_output\n",
    "import matplotlib.pyplot as plt\n",
    "import seaborn as sns\n",
    "\n",
    "from tqdm import tqdm\n",
    "from concurrent.futures import ThreadPoolExecutor\n",
    "from scipy.optimize import minimize\n",
    "import optuna\n",
    "\n",
    "\n",
    "from sklearn.base import clone\n",
    "from sklearn.ensemble import VotingRegressor\n",
    "from sklearn.model_selection import StratifiedKFold\n",
    "from sklearn.metrics import cohen_kappa_score\n",
    "\n",
    "import lightgbm as lgb\n",
    "from catboost import CatBoostRegressor, CatBoostClassifier\n",
    "from xgboost import XGBRegressor\n",
    "\n",
    "import warnings\n",
    "warnings.filterwarnings('ignore')\n",
    "pd.options.display.max_columns = None\n",
    "\n",
    "SEED = 42\n",
    "n_splits = 5"
   ]
  },
  {
   "cell_type": "markdown",
   "id": "1141636d",
   "metadata": {
    "papermill": {
     "duration": 0.004949,
     "end_time": "2024-12-11T12:59:15.821847",
     "exception": false,
     "start_time": "2024-12-11T12:59:15.816898",
     "status": "completed"
    },
    "tags": []
   },
   "source": [
    "<p style=\"background-color:#33FFAA ; font-family:'Times New Romans'; color:#000000; font-size:170%; text-align:center; border: 3px solid #00EEEE; border-radius:10px; padding: 10px;\">Reading Data Files</p>"
   ]
  },
  {
   "cell_type": "markdown",
   "id": "ce01082c",
   "metadata": {
    "papermill": {
     "duration": 0.004772,
     "end_time": "2024-12-11T12:59:15.831866",
     "exception": false,
     "start_time": "2024-12-11T12:59:15.827094",
     "status": "completed"
    },
    "tags": []
   },
   "source": [
    "# Reading Data files"
   ]
  },
  {
   "cell_type": "code",
   "execution_count": 2,
   "id": "bbbf7650",
   "metadata": {
    "execution": {
     "iopub.execute_input": "2024-12-11T12:59:15.843561Z",
     "iopub.status.busy": "2024-12-11T12:59:15.842894Z",
     "iopub.status.idle": "2024-12-11T13:00:57.129030Z",
     "shell.execute_reply": "2024-12-11T13:00:57.127797Z"
    },
    "papermill": {
     "duration": 101.29463,
     "end_time": "2024-12-11T13:00:57.131420",
     "exception": false,
     "start_time": "2024-12-11T12:59:15.836790",
     "status": "completed"
    },
    "tags": []
   },
   "outputs": [
    {
     "name": "stderr",
     "output_type": "stream",
     "text": [
      "100%|██████████| 996/996 [01:40<00:00,  9.88it/s]\n",
      "100%|██████████| 2/2 [00:00<00:00,  7.46it/s]"
     ]
    },
    {
     "name": "stdout",
     "output_type": "stream",
     "text": [
      "CPU times: user 4min 25s, sys: 41.6 s, total: 5min 7s\n",
      "Wall time: 1min 41s\n"
     ]
    },
    {
     "name": "stderr",
     "output_type": "stream",
     "text": [
      "\n"
     ]
    }
   ],
   "source": [
    "%%time\n",
    "\n",
    "def process_file(filename, dirname):\n",
    "    df = pd.read_parquet(os.path.join(dirname, filename, 'part-0.parquet'))\n",
    "    df.drop('step', axis=1, inplace=True)\n",
    "    return df.describe().values.reshape(-1), filename.split('=')[1]\n",
    "\n",
    "def load_time_series(dirname) -> pd.DataFrame:\n",
    "\n",
    "    ids = os.listdir(dirname)\n",
    "    \n",
    "    with ThreadPoolExecutor() as executor:\n",
    "        results = list(tqdm(\n",
    "            executor.map(lambda fname: process_file(fname, dirname), ids),\n",
    "            total=len(ids))\n",
    "        )\n",
    "    \n",
    "    stats, indexes = zip(*results)\n",
    "    \n",
    "    df = pd.DataFrame(stats, columns=[f\"Stat_{i}\" for i in range(len(stats[0]))])\n",
    "    df['id'] = indexes\n",
    "    \n",
    "    return df\n",
    "    \n",
    "# Reading data files\n",
    "data_path = '/kaggle/input/child-mind-institute-problematic-internet-use'\n",
    "train = pd.read_csv(f'{data_path}/train.csv')\n",
    "test = pd.read_csv(f'{data_path}/test.csv')\n",
    "sample = pd.read_csv(f'{data_path}/sample_submission.csv')\n",
    "\n",
    "train_ts = load_time_series(f'{data_path}/series_train.parquet')\n",
    "test_ts = load_time_series(f'{data_path}/series_test.parquet')\n",
    "\n",
    "train_orig = pd.merge(train, train_ts, how=\"left\", on='id')\n",
    "test_orig = pd.merge(test, test_ts, how=\"left\", on='id')\n"
   ]
  },
  {
   "cell_type": "code",
   "execution_count": 3,
   "id": "89e44ff6",
   "metadata": {
    "execution": {
     "iopub.execute_input": "2024-12-11T13:00:57.182965Z",
     "iopub.status.busy": "2024-12-11T13:00:57.181814Z",
     "iopub.status.idle": "2024-12-11T13:00:57.201330Z",
     "shell.execute_reply": "2024-12-11T13:00:57.200147Z"
    },
    "papermill": {
     "duration": 0.047802,
     "end_time": "2024-12-11T13:00:57.203970",
     "exception": false,
     "start_time": "2024-12-11T13:00:57.156168",
     "status": "completed"
    },
    "tags": []
   },
   "outputs": [],
   "source": [
    "# save original data\n",
    "train = train_orig.copy()\n",
    "test = test_orig.copy()"
   ]
  },
  {
   "cell_type": "markdown",
   "id": "9c563e8f",
   "metadata": {
    "papermill": {
     "duration": 0.0314,
     "end_time": "2024-12-11T13:00:57.260998",
     "exception": false,
     "start_time": "2024-12-11T13:00:57.229598",
     "status": "completed"
    },
    "tags": []
   },
   "source": [
    "<p style=\"background-color:#33FFAA ; font-family:'Times New Romans'; color:#000000; font-size:170%; text-align:center; border: 3px solid #00EEEE; border-radius:10px; padding: 10px;\">Basic Preprocess</p>"
   ]
  },
  {
   "cell_type": "markdown",
   "id": "587c9463",
   "metadata": {
    "papermill": {
     "duration": 0.033534,
     "end_time": "2024-12-11T13:00:57.326215",
     "exception": false,
     "start_time": "2024-12-11T13:00:57.292681",
     "status": "completed"
    },
    "tags": []
   },
   "source": [
    "# Basic preprocessing"
   ]
  },
  {
   "cell_type": "code",
   "execution_count": 4,
   "id": "e33de15b",
   "metadata": {
    "execution": {
     "iopub.execute_input": "2024-12-11T13:00:57.394700Z",
     "iopub.status.busy": "2024-12-11T13:00:57.394129Z",
     "iopub.status.idle": "2024-12-11T13:00:57.411207Z",
     "shell.execute_reply": "2024-12-11T13:00:57.410023Z"
    },
    "papermill": {
     "duration": 0.054372,
     "end_time": "2024-12-11T13:00:57.413855",
     "exception": false,
     "start_time": "2024-12-11T13:00:57.359483",
     "status": "completed"
    },
    "tags": []
   },
   "outputs": [
    {
     "data": {
      "text/plain": [
       "((3960, 156), (20, 155))"
      ]
     },
     "execution_count": 4,
     "metadata": {},
     "output_type": "execute_result"
    }
   ],
   "source": [
    "pciat_Cols = [col for col in train.columns if 'PCIAT' in col]\n",
    "train = train.drop(pciat_Cols, axis=1)\n",
    "\n",
    "train.shape, test.shape"
   ]
  },
  {
   "cell_type": "code",
   "execution_count": 5,
   "id": "b5c6603a",
   "metadata": {
    "execution": {
     "iopub.execute_input": "2024-12-11T13:00:57.478342Z",
     "iopub.status.busy": "2024-12-11T13:00:57.477842Z",
     "iopub.status.idle": "2024-12-11T13:00:57.561669Z",
     "shell.execute_reply": "2024-12-11T13:00:57.560277Z"
    },
    "papermill": {
     "duration": 0.119291,
     "end_time": "2024-12-11T13:00:57.564148",
     "exception": false,
     "start_time": "2024-12-11T13:00:57.444857",
     "status": "completed"
    },
    "tags": []
   },
   "outputs": [
    {
     "name": "stdout",
     "output_type": "stream",
     "text": [
      "Train Shape : (2736, 156) || Test Shape : (20, 155)\n"
     ]
    }
   ],
   "source": [
    "# Prepare feature values\n",
    "\n",
    "train = train.dropna(subset='sii')\n",
    "\n",
    "cat_Cols = [col for col in train.columns if 'Season' in col]\n",
    "\n",
    "def update(df):\n",
    "    for c in cat_Cols:\n",
    "        if df[c].dtype.name == 'category':\n",
    "            # Add 'Missing' to the categories if it's not already present\n",
    "            if 'Missing' not in df[c].cat.categories:\n",
    "                df[c] = df[c].cat.add_categories('Missing')\n",
    "\n",
    "        # Fill missing values with 'Missing'\n",
    "        df[c] = df[c].fillna('Missing')\n",
    "\n",
    "        # Ensure the column is of 'category' dtype\n",
    "        df[c] = df[c].astype('category')\n",
    "    return df\n",
    "\n",
    "\n",
    "train = update(train)\n",
    "test = update(test)\n",
    "\n",
    "\"\"\"\n",
    "    This Mapping Works Fine For me, I also \n",
    "    check each values in train and test using \n",
    "    logic. There no Data Lekage.\n",
    "\"\"\"\n",
    "\n",
    "def create_mapping(column, dataset):\n",
    "    unique_values = dataset[column].unique()\n",
    "    return {value: idx for idx, value in enumerate(unique_values)}\n",
    "    \n",
    "for col in cat_Cols:\n",
    "    mapping_train = create_mapping(col, train)\n",
    "    mapping_test = create_mapping(col, test)\n",
    "\n",
    "    train[col] = train[col].replace(mapping_train).astype(int)\n",
    "    test[col] = test[col].replace(mapping_test).astype(int)\n",
    "\n",
    "print(f'Train Shape : {train.shape} || Test Shape : {test.shape}')"
   ]
  },
  {
   "cell_type": "markdown",
   "id": "32e3cb0d",
   "metadata": {
    "papermill": {
     "duration": 0.030548,
     "end_time": "2024-12-11T13:00:57.626402",
     "exception": false,
     "start_time": "2024-12-11T13:00:57.595854",
     "status": "completed"
    },
    "tags": []
   },
   "source": [
    "<p style=\"background-color:#33FFAA ; font-family:'Times New Romans'; color:#000000; font-size:170%; text-align:center; border: 3px solid #00EEEE; border-radius:10px; padding: 10px;\">Modeling | Single LightGBM Regressor</p>"
   ]
  },
  {
   "cell_type": "markdown",
   "id": "fe45e4f9",
   "metadata": {
    "papermill": {
     "duration": 0.030149,
     "end_time": "2024-12-11T13:00:57.687084",
     "exception": false,
     "start_time": "2024-12-11T13:00:57.656935",
     "status": "completed"
    },
    "tags": []
   },
   "source": [
    "# Modeling and Training"
   ]
  },
  {
   "cell_type": "code",
   "execution_count": 6,
   "id": "4efce7bc",
   "metadata": {
    "execution": {
     "iopub.execute_input": "2024-12-11T13:00:57.751307Z",
     "iopub.status.busy": "2024-12-11T13:00:57.750811Z",
     "iopub.status.idle": "2024-12-11T13:00:57.763850Z",
     "shell.execute_reply": "2024-12-11T13:00:57.762692Z"
    },
    "papermill": {
     "duration": 0.048502,
     "end_time": "2024-12-11T13:00:57.766607",
     "exception": false,
     "start_time": "2024-12-11T13:00:57.718105",
     "status": "completed"
    },
    "tags": []
   },
   "outputs": [],
   "source": [
    "train = train.drop('id', axis=1)\n",
    "test_id = test['id'].copy()\n",
    "test = test.drop('id', axis=1)"
   ]
  },
  {
   "cell_type": "code",
   "execution_count": 7,
   "id": "990ce49f",
   "metadata": {
    "execution": {
     "iopub.execute_input": "2024-12-11T13:00:57.831930Z",
     "iopub.status.busy": "2024-12-11T13:00:57.831242Z",
     "iopub.status.idle": "2024-12-11T13:00:57.847380Z",
     "shell.execute_reply": "2024-12-11T13:00:57.846164Z"
    },
    "papermill": {
     "duration": 0.051679,
     "end_time": "2024-12-11T13:00:57.849777",
     "exception": false,
     "start_time": "2024-12-11T13:00:57.798098",
     "status": "completed"
    },
    "tags": []
   },
   "outputs": [
    {
     "name": "stdout",
     "output_type": "stream",
     "text": [
      "CPU times: user 7 µs, sys: 1e+03 ns, total: 8 µs\n",
      "Wall time: 14.1 µs\n"
     ]
    }
   ],
   "source": [
    "%%time\n",
    "# Functions for training the evaluating the selected model \n",
    "\n",
    "def quadratic_weighted_kappa(y_true, y_pred):\n",
    "    return cohen_kappa_score(y_true, y_pred, weights='quadratic')\n",
    "\n",
    "def threshold_Rounder(oof_non_rounded, thresholds):\n",
    "    return np.where(oof_non_rounded < thresholds[0], 0,\n",
    "                    np.where(oof_non_rounded < thresholds[1], 1,\n",
    "                             np.where(oof_non_rounded < thresholds[2], 2, 3)))\n",
    "\n",
    "def evaluate_predictions(thresholds, y_true, oof_non_rounded):\n",
    "    rounded_p = threshold_Rounder(oof_non_rounded, thresholds)\n",
    "    return -quadratic_weighted_kappa(y_true, rounded_p)\n",
    "\n",
    "def TrainML(model_class, test_data):\n",
    "    \n",
    "    X = train.drop(['sii'], axis=1)\n",
    "    y = train['sii']\n",
    "\n",
    "    SKF = StratifiedKFold(n_splits=n_splits, shuffle=True, random_state=SEED)\n",
    "    \n",
    "    train_S = []\n",
    "    test_S = []\n",
    "    \n",
    "    oof_non_rounded = np.zeros(len(y), dtype=float) \n",
    "    oof_rounded = np.zeros(len(y), dtype=int) \n",
    "    test_preds = np.zeros((len(test_data), n_splits))\n",
    "\n",
    "    for fold, (train_idx, test_idx) in enumerate(tqdm(SKF.split(X, y), desc=\"Training Folds\", total=n_splits)):\n",
    "        X_train, X_val = X.iloc[train_idx], X.iloc[test_idx]\n",
    "        y_train, y_val = y.iloc[train_idx], y.iloc[test_idx]\n",
    "\n",
    "        model = clone(model_class)\n",
    "        model.fit(X_train, y_train)\n",
    "\n",
    "        y_train_pred = model.predict(X_train)\n",
    "        y_val_pred = model.predict(X_val)\n",
    "\n",
    "        oof_non_rounded[test_idx] = y_val_pred\n",
    "        y_val_pred_rounded = y_val_pred.round(0).astype(int)\n",
    "        oof_rounded[test_idx] = y_val_pred_rounded\n",
    "\n",
    "        train_kappa = quadratic_weighted_kappa(y_train, y_train_pred.round(0).astype(int))\n",
    "        val_kappa = quadratic_weighted_kappa(y_val, y_val_pred_rounded)\n",
    "\n",
    "        train_S.append(train_kappa)\n",
    "        test_S.append(val_kappa)\n",
    "        \n",
    "        test_preds[:, fold] = model.predict(test_data)\n",
    "        \n",
    "        print(f\"Fold {fold+1} - Train QWK: {train_kappa:.4f}, Validation QWK: {val_kappa:.4f}\")\n",
    "        clear_output(wait=True)\n",
    "\n",
    "    print(f\"Mean Train QWK --> {np.mean(train_S):.4f}\")\n",
    "    print(f\"Mean Validation QWK ---> {np.mean(test_S):.4f}\")\n",
    "\n",
    "    KappaOPtimizer = minimize(evaluate_predictions,\n",
    "                              x0=[0.5, 1.5, 2.5], args=(y, oof_non_rounded), \n",
    "                              method='Nelder-Mead') # Nelder-Mead | # Powell\n",
    "    assert KappaOPtimizer.success, \"Optimization did not converge.\"\n",
    "    \n",
    "    oof_tuned = threshold_Rounder(oof_non_rounded, KappaOPtimizer.x)\n",
    "    tKappa = quadratic_weighted_kappa(y, oof_tuned)\n",
    "\n",
    "    print(f\"----> || Optimized QWK SCORE :: {Fore.CYAN}{Style.BRIGHT} {tKappa:.3f}{Style.RESET_ALL}\")\n",
    "\n",
    "    tpm = test_preds.mean(axis=1)\n",
    "    tpTuned = threshold_Rounder(tpm, KappaOPtimizer.x)\n",
    "    \n",
    "    submission = pd.DataFrame({\n",
    "        'id': test_id,     #sample['id'],\n",
    "        'sii': tpTuned\n",
    "    })\n",
    "\n",
    "    return submission, model"
   ]
  },
  {
   "cell_type": "code",
   "execution_count": 8,
   "id": "924f5160",
   "metadata": {
    "execution": {
     "iopub.execute_input": "2024-12-11T13:00:57.917512Z",
     "iopub.status.busy": "2024-12-11T13:00:57.916620Z",
     "iopub.status.idle": "2024-12-11T13:00:57.922455Z",
     "shell.execute_reply": "2024-12-11T13:00:57.921199Z"
    },
    "papermill": {
     "duration": 0.043687,
     "end_time": "2024-12-11T13:00:57.925750",
     "exception": false,
     "start_time": "2024-12-11T13:00:57.882063",
     "status": "completed"
    },
    "tags": []
   },
   "outputs": [],
   "source": [
    "# test_id == sample['id']"
   ]
  },
  {
   "cell_type": "code",
   "execution_count": 9,
   "id": "9a4419b4",
   "metadata": {
    "execution": {
     "iopub.execute_input": "2024-12-11T13:00:57.991404Z",
     "iopub.status.busy": "2024-12-11T13:00:57.990859Z",
     "iopub.status.idle": "2024-12-11T13:01:10.561981Z",
     "shell.execute_reply": "2024-12-11T13:01:10.560210Z"
    },
    "papermill": {
     "duration": 12.607543,
     "end_time": "2024-12-11T13:01:10.564847",
     "exception": false,
     "start_time": "2024-12-11T13:00:57.957304",
     "status": "completed"
    },
    "tags": []
   },
   "outputs": [
    {
     "name": "stderr",
     "output_type": "stream",
     "text": [
      "Training Folds: 100%|██████████| 5/5 [00:11<00:00,  2.37s/it]"
     ]
    },
    {
     "name": "stdout",
     "output_type": "stream",
     "text": [
      "Mean Train QWK --> 0.4945\n",
      "Mean Validation QWK ---> 0.3537\n"
     ]
    },
    {
     "name": "stderr",
     "output_type": "stream",
     "text": [
      "\n"
     ]
    },
    {
     "name": "stdout",
     "output_type": "stream",
     "text": [
      "----> || Optimized QWK SCORE :: \u001b[36m\u001b[1m 0.464\u001b[0m\n",
      "CPU times: user 10.1 s, sys: 1.2 s, total: 11.3 s\n",
      "Wall time: 12.6 s\n"
     ]
    }
   ],
   "source": [
    "%%time\n",
    "\n",
    "#Train and predict sii for test data \n",
    "\n",
    "LGB_Params = {\n",
    "    'learning_rate': 0.01, \n",
    "    'random_state': SEED, \n",
    "    'n_estimators': 200,\n",
    "    'max_depth': 15, \n",
    "    'num_leaves': 300, \n",
    "    'min_data_in_leaf': 30,\n",
    "    'feature_fraction': 0.7689, \n",
    "    'bagging_fraction': 0.6879, \n",
    "    'bagging_freq': 2, \n",
    "    'lambda_l1': 4.74, \n",
    "    'lambda_l2': 4.743e-06,\n",
    "    'verbose': -1,\n",
    "    # CV : 0.4094 | LB : 0.471\n",
    "}\n",
    "\n",
    "Model = lgb.LGBMRegressor(**LGB_Params)\n",
    "\n",
    "Submission, model = TrainML(Model,test)"
   ]
  },
  {
   "cell_type": "code",
   "execution_count": 10,
   "id": "6c61675f",
   "metadata": {
    "execution": {
     "iopub.execute_input": "2024-12-11T13:01:10.629639Z",
     "iopub.status.busy": "2024-12-11T13:01:10.628859Z",
     "iopub.status.idle": "2024-12-11T13:01:10.642598Z",
     "shell.execute_reply": "2024-12-11T13:01:10.640705Z"
    },
    "papermill": {
     "duration": 0.048411,
     "end_time": "2024-12-11T13:01:10.646771",
     "exception": false,
     "start_time": "2024-12-11T13:01:10.598360",
     "status": "completed"
    },
    "tags": []
   },
   "outputs": [
    {
     "name": "stdout",
     "output_type": "stream",
     "text": [
      "CPU times: user 7 µs, sys: 2 µs, total: 9 µs\n",
      "Wall time: 15.7 µs\n"
     ]
    }
   ],
   "source": [
    "%%time\n",
    "\n",
    "#feature_importance_df = pd.DataFrame({\n",
    "#     'Feature': model.booster_.feature_name(),\n",
    "#     'Importance': model.booster_.feature_importance(importance_type='gain')\n",
    "#})\n",
    "\n",
    "# feature_importance_df = feature_importance_df.sort_values(by='Importance', ascending=False)\n",
    "\n",
    "# plt.figure(figsize=(20, 40))\n",
    "# sns.barplot(x='Importance', y='Feature', data=feature_importance_df.head(100)) \n",
    "# plt.title(\"Top Feature Importance\")\n",
    "# plt.show()"
   ]
  },
  {
   "cell_type": "code",
   "execution_count": 11,
   "id": "f0be11df",
   "metadata": {
    "execution": {
     "iopub.execute_input": "2024-12-11T13:01:10.872379Z",
     "iopub.status.busy": "2024-12-11T13:01:10.871860Z",
     "iopub.status.idle": "2024-12-11T13:01:10.889548Z",
     "shell.execute_reply": "2024-12-11T13:01:10.888235Z"
    },
    "papermill": {
     "duration": 0.058349,
     "end_time": "2024-12-11T13:01:10.893020",
     "exception": false,
     "start_time": "2024-12-11T13:01:10.834671",
     "status": "completed"
    },
    "tags": []
   },
   "outputs": [
    {
     "name": "stdout",
     "output_type": "stream",
     "text": [
      "sii\n",
      "0    12\n",
      "1     8\n",
      "Name: count, dtype: int64\n",
      "CPU times: user 3.86 ms, sys: 2.99 ms, total: 6.85 ms\n",
      "Wall time: 10.8 ms\n"
     ]
    }
   ],
   "source": [
    "%%time\n",
    "\n",
    "Submission.to_csv('submission.csv', index=False)\n",
    "print(Submission['sii'].value_counts())"
   ]
  }
 ],
 "metadata": {
  "kaggle": {
   "accelerator": "none",
   "dataSources": [
    {
     "databundleVersionId": 9643020,
     "sourceId": 81933,
     "sourceType": "competition"
    }
   ],
   "dockerImageVersionId": 30761,
   "isGpuEnabled": false,
   "isInternetEnabled": false,
   "language": "python",
   "sourceType": "notebook"
  },
  "kernelspec": {
   "display_name": "Python 3",
   "language": "python",
   "name": "python3"
  },
  "language_info": {
   "codemirror_mode": {
    "name": "ipython",
    "version": 3
   },
   "file_extension": ".py",
   "mimetype": "text/x-python",
   "name": "python",
   "nbconvert_exporter": "python",
   "pygments_lexer": "ipython3",
   "version": "3.10.14"
  },
  "papermill": {
   "default_parameters": {},
   "duration": 125.580711,
   "end_time": "2024-12-11T13:01:13.161155",
   "environment_variables": {},
   "exception": null,
   "input_path": "__notebook__.ipynb",
   "output_path": "__notebook__.ipynb",
   "parameters": {},
   "start_time": "2024-12-11T12:59:07.580444",
   "version": "2.6.0"
  }
 },
 "nbformat": 4,
 "nbformat_minor": 5
}
